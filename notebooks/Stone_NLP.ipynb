{
 "cells": [
  {
   "cell_type": "code",
   "execution_count": 6,
   "id": "3c6c7128-233e-493c-9234-bfc10c777cac",
   "metadata": {
    "tags": []
   },
   "outputs": [],
   "source": [
    "import os.path as osp\n",
    "import gensim.downloader as api\n",
    "wv = api.load('word2vec-google-news-300')"
   ]
  },
  {
   "cell_type": "code",
   "execution_count": 2,
   "id": "36faabc9-b107-4a59-bc15-59cf04e662aa",
   "metadata": {
    "tags": []
   },
   "outputs": [
    {
     "data": {
      "text/plain": [
       "0.07620491"
      ]
     },
     "execution_count": 3,
     "metadata": {},
     "output_type": "execute_result"
    }
   ],
   "source": [
    "wv.similarity(\"Test\", \"Exam\")"
   ]
  },
  {
   "cell_type": "code",
   "execution_count": 8,
   "id": "f250221f-e666-4623-863e-d98fb9ad9b18",
   "metadata": {
    "tags": []
   },
   "outputs": [
    {
     "data": {
      "text/html": [
       "<div>\n",
       "<style scoped>\n",
       "    .dataframe tbody tr th:only-of-type {\n",
       "        vertical-align: middle;\n",
       "    }\n",
       "\n",
       "    .dataframe tbody tr th {\n",
       "        vertical-align: top;\n",
       "    }\n",
       "\n",
       "    .dataframe thead th {\n",
       "        text-align: right;\n",
       "    }\n",
       "</style>\n",
       "<table border=\"1\" class=\"dataframe\">\n",
       "  <thead>\n",
       "    <tr style=\"text-align: right;\">\n",
       "      <th></th>\n",
       "      <th>Word</th>\n",
       "      <th>uniqueID</th>\n",
       "      <th>Example image</th>\n",
       "      <th>Bigram</th>\n",
       "      <th>Percent_known</th>\n",
       "      <th>Rank (combining COCA/concreteness)</th>\n",
       "      <th>Concreteness (M)</th>\n",
       "      <th>COCA word freq (online)</th>\n",
       "      <th>COCA word freq</th>\n",
       "      <th>COCA (dispersion)</th>\n",
       "      <th>...</th>\n",
       "      <th>Top-down Category (WordNet)</th>\n",
       "      <th>Top-down Category (manual selection)</th>\n",
       "      <th>All Bottom-up Categories</th>\n",
       "      <th>WordNet Synonyms</th>\n",
       "      <th>WordNet ID</th>\n",
       "      <th>Wordnet ID2</th>\n",
       "      <th>Wordnet ID3</th>\n",
       "      <th>Wordnet ID4</th>\n",
       "      <th>Definition (from WordNet, Google, or Wikipedia)</th>\n",
       "      <th>Number of word meanings in list</th>\n",
       "    </tr>\n",
       "  </thead>\n",
       "  <tbody>\n",
       "    <tr>\n",
       "      <th>0</th>\n",
       "      <td>aardvark</td>\n",
       "      <td>aardvark</td>\n",
       "      <td>https://imgur.com/LAJGlN0</td>\n",
       "      <td>0</td>\n",
       "      <td>1.00</td>\n",
       "      <td>18158.5</td>\n",
       "      <td>4.68</td>\n",
       "      <td>53</td>\n",
       "      <td>28.0</td>\n",
       "      <td>0.78</td>\n",
       "      <td>...</td>\n",
       "      <td>animal</td>\n",
       "      <td>animal</td>\n",
       "      <td>animal</td>\n",
       "      <td>aardvark, ant_bear, anteater, Orycteropus_afer</td>\n",
       "      <td>n02082791</td>\n",
       "      <td>aardvark%1:05:00::</td>\n",
       "      <td>aardvark#1</td>\n",
       "      <td>aardvark.n.01</td>\n",
       "      <td>nocturnal burrowing mammal of the grasslands o...</td>\n",
       "      <td>1</td>\n",
       "    </tr>\n",
       "    <tr>\n",
       "      <th>1</th>\n",
       "      <td>abacus</td>\n",
       "      <td>abacus</td>\n",
       "      <td>https://imgur.com/peZeM0l</td>\n",
       "      <td>0</td>\n",
       "      <td>0.93</td>\n",
       "      <td>17741.0</td>\n",
       "      <td>4.52</td>\n",
       "      <td>188</td>\n",
       "      <td>97.0</td>\n",
       "      <td>0.86</td>\n",
       "      <td>...</td>\n",
       "      <td>NaN</td>\n",
       "      <td>home decor</td>\n",
       "      <td>mathematical device</td>\n",
       "      <td>abacus</td>\n",
       "      <td>n02666196</td>\n",
       "      <td>abacus%1:06:00::</td>\n",
       "      <td>abacus#2</td>\n",
       "      <td>abacus.n.02</td>\n",
       "      <td>a calculator that performs arithmetic function...</td>\n",
       "      <td>1</td>\n",
       "    </tr>\n",
       "    <tr>\n",
       "      <th>2</th>\n",
       "      <td>accordion</td>\n",
       "      <td>accordion</td>\n",
       "      <td>https://imgur.com/GgGvdZR</td>\n",
       "      <td>0</td>\n",
       "      <td>0.97</td>\n",
       "      <td>8541.0</td>\n",
       "      <td>4.86</td>\n",
       "      <td>816</td>\n",
       "      <td>735.0</td>\n",
       "      <td>0.90</td>\n",
       "      <td>...</td>\n",
       "      <td>musical instrument</td>\n",
       "      <td>musical instrument</td>\n",
       "      <td>musical instrument</td>\n",
       "      <td>accordion, piano_accordion, squeeze_box</td>\n",
       "      <td>n02672831</td>\n",
       "      <td>accordion%1:06:00::</td>\n",
       "      <td>accordion#1</td>\n",
       "      <td>accordion.n.01</td>\n",
       "      <td>a portable box-shaped free-reed instrument; th...</td>\n",
       "      <td>1</td>\n",
       "    </tr>\n",
       "    <tr>\n",
       "      <th>3</th>\n",
       "      <td>acorn</td>\n",
       "      <td>acorn</td>\n",
       "      <td>https://imgur.com/YfIB5lM</td>\n",
       "      <td>0</td>\n",
       "      <td>1.00</td>\n",
       "      <td>7723.5</td>\n",
       "      <td>4.96</td>\n",
       "      <td>1289</td>\n",
       "      <td>692.0</td>\n",
       "      <td>0.85</td>\n",
       "      <td>...</td>\n",
       "      <td>fruit</td>\n",
       "      <td>NaN</td>\n",
       "      <td>nut</td>\n",
       "      <td>acorn</td>\n",
       "      <td>n12267677</td>\n",
       "      <td>acorn%1:20:00::</td>\n",
       "      <td>acorn#1</td>\n",
       "      <td>acorn.n.01</td>\n",
       "      <td>fruit of the oak tree: a smooth thin-walled nu...</td>\n",
       "      <td>1</td>\n",
       "    </tr>\n",
       "    <tr>\n",
       "      <th>4</th>\n",
       "      <td>air conditioner</td>\n",
       "      <td>air_conditioner</td>\n",
       "      <td>https://imgur.com/KqYNwWH</td>\n",
       "      <td>1</td>\n",
       "      <td>1.00</td>\n",
       "      <td>12115.0</td>\n",
       "      <td>4.93</td>\n",
       "      <td>943</td>\n",
       "      <td>NaN</td>\n",
       "      <td>NaN</td>\n",
       "      <td>...</td>\n",
       "      <td>NaN</td>\n",
       "      <td>electronic device</td>\n",
       "      <td>home appliance</td>\n",
       "      <td>air_conditioner, air_conditioning</td>\n",
       "      <td>n02686379</td>\n",
       "      <td>air_conditioner%1:06:00::</td>\n",
       "      <td>air_conditioner#1</td>\n",
       "      <td>air_conditioner.n.01</td>\n",
       "      <td>a system that keeps air cool and dry</td>\n",
       "      <td>1</td>\n",
       "    </tr>\n",
       "  </tbody>\n",
       "</table>\n",
       "<p>5 rows × 25 columns</p>\n",
       "</div>"
      ],
      "text/plain": [
       "              Word         uniqueID              Example image  Bigram  \\\n",
       "0         aardvark         aardvark  https://imgur.com/LAJGlN0       0   \n",
       "1           abacus           abacus  https://imgur.com/peZeM0l       0   \n",
       "2        accordion        accordion  https://imgur.com/GgGvdZR       0   \n",
       "3            acorn            acorn  https://imgur.com/YfIB5lM       0   \n",
       "4  air conditioner  air_conditioner  https://imgur.com/KqYNwWH       1   \n",
       "\n",
       "   Percent_known  Rank (combining COCA/concreteness)  Concreteness (M)  \\\n",
       "0           1.00                             18158.5              4.68   \n",
       "1           0.93                             17741.0              4.52   \n",
       "2           0.97                              8541.0              4.86   \n",
       "3           1.00                              7723.5              4.96   \n",
       "4           1.00                             12115.0              4.93   \n",
       "\n",
       "   COCA word freq (online)  COCA word freq  COCA (dispersion)  ...  \\\n",
       "0                       53            28.0               0.78  ...   \n",
       "1                      188            97.0               0.86  ...   \n",
       "2                      816           735.0               0.90  ...   \n",
       "3                     1289           692.0               0.85  ...   \n",
       "4                      943             NaN                NaN  ...   \n",
       "\n",
       "   Top-down Category (WordNet)  Top-down Category (manual selection)  \\\n",
       "0                       animal                                animal   \n",
       "1                          NaN                            home decor   \n",
       "2           musical instrument                    musical instrument   \n",
       "3                        fruit                                   NaN   \n",
       "4                          NaN                     electronic device   \n",
       "\n",
       "   All Bottom-up Categories                                WordNet Synonyms  \\\n",
       "0                    animal  aardvark, ant_bear, anteater, Orycteropus_afer   \n",
       "1       mathematical device                                          abacus   \n",
       "2        musical instrument         accordion, piano_accordion, squeeze_box   \n",
       "3                       nut                                           acorn   \n",
       "4            home appliance               air_conditioner, air_conditioning   \n",
       "\n",
       "  WordNet ID                Wordnet ID2        Wordnet ID3  \\\n",
       "0  n02082791         aardvark%1:05:00::         aardvark#1   \n",
       "1  n02666196           abacus%1:06:00::           abacus#2   \n",
       "2  n02672831        accordion%1:06:00::        accordion#1   \n",
       "3  n12267677            acorn%1:20:00::            acorn#1   \n",
       "4  n02686379  air_conditioner%1:06:00::  air_conditioner#1   \n",
       "\n",
       "            Wordnet ID4    Definition (from WordNet, Google, or Wikipedia)  \\\n",
       "0         aardvark.n.01  nocturnal burrowing mammal of the grasslands o...   \n",
       "1           abacus.n.02  a calculator that performs arithmetic function...   \n",
       "2        accordion.n.01  a portable box-shaped free-reed instrument; th...   \n",
       "3            acorn.n.01  fruit of the oak tree: a smooth thin-walled nu...   \n",
       "4  air_conditioner.n.01               a system that keeps air cool and dry   \n",
       "\n",
       "  Number of word meanings in list  \n",
       "0                               1  \n",
       "1                               1  \n",
       "2                               1  \n",
       "3                               1  \n",
       "4                               1  \n",
       "\n",
       "[5 rows x 25 columns]"
      ]
     },
     "execution_count": 8,
     "metadata": {},
     "output_type": "execute_result"
    }
   ],
   "source": [
    "import pandas as pd\n",
    "things_categories = pd.read_csv(osp.join(\"../\", \"things_concepts.tsv\"), sep=\"\\t\")\n",
    "things_categories.head()"
   ]
  },
  {
   "cell_type": "code",
   "execution_count": 38,
   "id": "e9038c51-cf05-48f3-bd2f-0c8b3deddf11",
   "metadata": {
    "tags": []
   },
   "outputs": [
    {
     "data": {
      "text/plain": [
       "(1854, 25)"
      ]
     },
     "execution_count": 38,
     "metadata": {},
     "output_type": "execute_result"
    }
   ],
   "source": [
    "things_categories.shape"
   ]
  },
  {
   "cell_type": "code",
   "execution_count": 52,
   "id": "a93e7120-7568-4f7f-8cb5-de508d75394a",
   "metadata": {
    "tags": []
   },
   "outputs": [],
   "source": [
    "key_categories = {\n",
    "    \"natural\": [\"natural\", \"animal\", \"plant\"],\n",
    "    \"artificial\": [\"artificial\", \"machine\"]\n",
    "}"
   ]
  },
  {
   "cell_type": "code",
   "execution_count": 53,
   "id": "5119823d-637a-46a1-b956-845151ec191c",
   "metadata": {
    "tags": []
   },
   "outputs": [
    {
     "data": {
      "text/plain": [
       "True"
      ]
     },
     "execution_count": 53,
     "metadata": {},
     "output_type": "execute_result"
    }
   ],
   "source": [
    "\"air\" in wv"
   ]
  },
  {
   "cell_type": "code",
   "execution_count": 60,
   "id": "c1aad6dd-c44a-4e59-937f-5148cd2e1993",
   "metadata": {
    "tags": []
   },
   "outputs": [
    {
     "name": "stdout",
     "output_type": "stream",
     "text": [
      "amber (0.21142913, 'natural', 'natural') 0.21142913 {'natural': (0.21142913, 'natural', 'natural'), 'artificial': (0.19946404, 'artificial', 'artificial')}\n",
      "ambulance (0.17784567, 'natural', 'animal') 0.17784567 {'natural': (0.17784567, 'natural', 'animal'), 'artificial': (0.12225049, 'artificial', 'artificial')}\n"
     ]
    }
   ],
   "source": [
    "# for r in things_categories.T.items():\n",
    "for index, row in things_categories[18:20].iterrows():\n",
    "    word = row['Word']\n",
    "    sim_vals = dict()\n",
    "    if word not in wv:\n",
    "        print(word, \"Out of Dict\")\n",
    "        continue\n",
    "    for cat in key_categories:\n",
    "        best_sim = -999\n",
    "        best_term_in_cat = \"\"\n",
    "        for term in key_categories[cat]:\n",
    "            sim_val = wv.similarity(word, term)\n",
    "            if sim_val > best_sim:\n",
    "                best_sim = sim_val\n",
    "                best_term_in_cat = term\n",
    "        sim_vals[cat] = (best_sim, cat, best_term_in_cat)\n",
    "    best_category = \"\"\n",
    "    best_sim_val = -99\n",
    "    for k in sim_vals:\n",
    "        v = sim_vals[k][0]\n",
    "        if v > best_sim_val:\n",
    "            best_sim_val = v\n",
    "            best_category = sim_vals[k]\n",
    "    print(word, best_category, best_sim_val, sim_vals)\n",
    "    "
   ]
  },
  {
   "cell_type": "code",
   "execution_count": 72,
   "id": "62aa9bf9-9b60-4bc6-9a83-8736fa753dd5",
   "metadata": {
    "tags": []
   },
   "outputs": [
    {
     "data": {
      "text/plain": [
       "(0.010503667, 0.14982235)"
      ]
     },
     "execution_count": 72,
     "metadata": {},
     "output_type": "execute_result"
    }
   ],
   "source": [
    "model_gigaword.similarity(\"artificial\", \"ambulance\"), model_gigaword.similarity(\"animal\", \"ambulance\")"
   ]
  },
  {
   "cell_type": "code",
   "execution_count": 68,
   "id": "8071f80b-42ad-4878-8aa1-5a82112f92d2",
   "metadata": {
    "tags": []
   },
   "outputs": [
    {
     "name": "stdout",
     "output_type": "stream",
     "text": [
      "[==================================================] 100.0% 376.1/376.1MB downloaded\n"
     ]
    }
   ],
   "source": [
    "model_gigaword = api.load(\"glove-wiki-gigaword-300\")\n"
   ]
  },
  {
   "cell_type": "code",
   "execution_count": 76,
   "id": "757fd792-c692-46f6-88f2-3adb74e8c159",
   "metadata": {
    "tags": []
   },
   "outputs": [],
   "source": [
    "import pyperclip\n",
    "pyperclip.copy('The text to be copied to the clipboard.')\n",
    "spam = pyperclip.paste()"
   ]
  },
  {
   "cell_type": "code",
   "execution_count": 144,
   "id": "c5ae2c52-93c6-4abb-9725-f7174cb7b92c",
   "metadata": {
    "tags": []
   },
   "outputs": [],
   "source": [
    "prompt = \"\"\"For each of the words below, tell me which of the following categories it is most similar to: Artificial, Natural\n",
    "Format your response as so\n",
    "<word>, <category>\n",
    "\"\"\"\n",
    "start_idx = 18 # increment this\n",
    "batch_size = 100\n",
    "N = len(things_categories[start_idx * batch_size:(start_idx + 1) * batch_size])\n",
    "prompt += f\"\"\"\n",
    "There are {N} words shown below, make sure to give an answer for each of them.\n",
    "The words are:\n",
    "\n",
    "\"\"\"\n",
    "for index, row in things_categories[start_idx * batch_size:(start_idx + 1) * batch_size].iterrows():\n",
    "    word = row['Word']\n",
    "    prompt += f\"{word}, \"\n",
    "pyperclip.copy(prompt)"
   ]
  },
  {
   "cell_type": "code",
   "execution_count": 152,
   "id": "e7dbf49c-39f3-4e33-a997-d7d5fd700207",
   "metadata": {
    "tags": []
   },
   "outputs": [
    {
     "data": {
      "text/html": [
       "<div>\n",
       "<style scoped>\n",
       "    .dataframe tbody tr th:only-of-type {\n",
       "        vertical-align: middle;\n",
       "    }\n",
       "\n",
       "    .dataframe tbody tr th {\n",
       "        vertical-align: top;\n",
       "    }\n",
       "\n",
       "    .dataframe thead th {\n",
       "        text-align: right;\n",
       "    }\n",
       "</style>\n",
       "<table border=\"1\" class=\"dataframe\">\n",
       "  <thead>\n",
       "    <tr style=\"text-align: right;\">\n",
       "      <th></th>\n",
       "      <th>object</th>\n",
       "      <th>category</th>\n",
       "    </tr>\n",
       "  </thead>\n",
       "  <tbody>\n",
       "    <tr>\n",
       "      <th>1710</th>\n",
       "      <td>triangle</td>\n",
       "      <td>Natural</td>\n",
       "    </tr>\n",
       "    <tr>\n",
       "      <th>1711</th>\n",
       "      <td>tricycle</td>\n",
       "      <td>Artificial</td>\n",
       "    </tr>\n",
       "    <tr>\n",
       "      <th>1712</th>\n",
       "      <td>trident</td>\n",
       "      <td>Artificial</td>\n",
       "    </tr>\n",
       "    <tr>\n",
       "      <th>1713</th>\n",
       "      <td>trigger</td>\n",
       "      <td>Artificial</td>\n",
       "    </tr>\n",
       "    <tr>\n",
       "      <th>1714</th>\n",
       "      <td>tripod</td>\n",
       "      <td>Artificial</td>\n",
       "    </tr>\n",
       "  </tbody>\n",
       "</table>\n",
       "</div>"
      ],
      "text/plain": [
       "        object     category\n",
       "1710  triangle      Natural\n",
       "1711  tricycle   Artificial\n",
       "1712   trident   Artificial\n",
       "1713   trigger   Artificial\n",
       "1714    tripod   Artificial"
      ]
     },
     "execution_count": 152,
     "metadata": {},
     "output_type": "execute_result"
    }
   ],
   "source": [
    "things_clustering = pd.read_csv(\"../things_clustering.csv\")\n",
    "things_clustering.tail()"
   ]
  },
  {
   "cell_type": "code",
   "execution_count": 154,
   "id": "ef113f46-2226-4f7e-a1d8-9d39a6fe7f16",
   "metadata": {
    "tags": []
   },
   "outputs": [],
   "source": [
    "# you may need to fix a few entries due to the output missing a word or something, use the code below to find out whats missing"
   ]
  },
  {
   "cell_type": "code",
   "execution_count": 155,
   "id": "5c0b9db6-9c6c-4b4f-b8f1-5df06147bf3e",
   "metadata": {
    "tags": []
   },
   "outputs": [
    {
     "name": "stdout",
     "output_type": "stream",
     "text": [
      "Mistake 87 Ground Truth: bat Got bat (flying mammal)\n",
      "Mistake 88 Ground Truth: bat Got bat (sports equipment)\n",
      "Mistake 92 Ground Truth: baton Got baton (musical instrument)\n",
      "Mistake 93 Ground Truth: baton Got baton (relay race)\n",
      "Mistake 94 Ground Truth: baton Got baton (police)\n",
      "Mistake 95 Ground Truth: baton Got baton (majorette)\n",
      "Mistake 174 Ground Truth: bow Got bow (archery)\n",
      "Mistake 175 Ground Truth: bow Got bow (ribbon)\n",
      "Mistake 176 Ground Truth: bow Got bow (knot)\n",
      "Mistake 187 Ground Truth: bracelet Got bracelet (jewelry)\n",
      "Mistake 188 Ground Truth: bracelet Got bracelet (orthopedic)\n"
     ]
    }
   ],
   "source": [
    "for i in range(len(things_clustering)):\n",
    "    # verify the object name is right\n",
    "    word = things_clustering.iloc[i][\"object\"]\n",
    "    \n",
    "    word2 = things_categories.iloc[i][\"Word\"]\n",
    "    if word != word2:\n",
    "        print(\"Mistake\", i, \"Ground Truth:\", word2, \"Got\", word)"
   ]
  },
  {
   "cell_type": "code",
   "execution_count": 130,
   "id": "3f5e5a57-7978-4edb-abcd-69481f55df13",
   "metadata": {
    "tags": []
   },
   "outputs": [
    {
     "data": {
      "text/plain": [
       "700"
      ]
     },
     "execution_count": 130,
     "metadata": {},
     "output_type": "execute_result"
    }
   ],
   "source": [
    "len(things_clustering)"
   ]
  },
  {
   "cell_type": "code",
   "execution_count": null,
   "id": "7e81941c-610f-4e27-91b8-2bf9dcf2de5a",
   "metadata": {},
   "outputs": [],
   "source": [
    "# Javascript code to copy all the chatgpt outputs\n",
    "\"\"\"\n",
    "function copyToClipboard(text) {\n",
    "    var dummy = document.createElement(\"textarea\");\n",
    "    // to avoid breaking orgain page when copying more words\n",
    "    // cant copy when adding below this code\n",
    "    // dummy.style.display = 'none'\n",
    "    document.body.appendChild(dummy);\n",
    "    //Be careful if you use texarea. setAttribute('value', value), which works with \"input\" does not work with \"textarea\". – Eduard\n",
    "    dummy.value = text;\n",
    "    dummy.select();\n",
    "    document.execCommand(\"copy\");\n",
    "    document.body.removeChild(dummy);\n",
    "}\n",
    "elements = document.getElementsByClassName(\"prose\");\n",
    "out = \"object, category\\n\"\n",
    "for (let i = 0; i < elements.length; i++) {\n",
    "    let txt = elements[i].textContent;\n",
    "    out += txt + \"\\n\";\n",
    "}\n",
    "copyToClipboard(out);\n",
    "\"\"\""
   ]
  },
  {
   "cell_type": "code",
   "execution_count": null,
   "id": "5293627b-3da6-4d34-8720-ef8fcac386d0",
   "metadata": {},
   "outputs": [],
   "source": []
  }
 ],
 "metadata": {
  "kernelspec": {
   "display_name": "Python 3 (ipykernel)",
   "language": "python",
   "name": "python3"
  },
  "language_info": {
   "codemirror_mode": {
    "name": "ipython",
    "version": 3
   },
   "file_extension": ".py",
   "mimetype": "text/x-python",
   "name": "python",
   "nbconvert_exporter": "python",
   "pygments_lexer": "ipython3",
   "version": "3.8.16"
  }
 },
 "nbformat": 4,
 "nbformat_minor": 5
}
