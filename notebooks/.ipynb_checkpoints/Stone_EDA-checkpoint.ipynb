{
 "cells": [
  {
   "cell_type": "code",
   "execution_count": 1,
   "id": "9097dd39-fd1d-46f3-be8b-0f895da0b68c",
   "metadata": {},
   "outputs": [],
   "source": [
    "import numpy as np\n",
    "import matplotlib.pyplot as plt\n",
    "import scipy\n",
    "import h5py\n",
    "import pandas as pd\n",
    "import os.path as osp\n",
    "import json\n",
    "from scipy.io import loadmat\n",
    "import mne\n",
    "# mat = scipy.io.loadmat(\"../data/derivatives/RDM/stats_RDM_full.mat\")\n",
    "DATA_PATH = \"../data\""
   ]
  },
  {
   "cell_type": "markdown",
   "id": "e8c9365d-6f1a-43b0-accb-e1b997e9889d",
   "metadata": {},
   "source": [
    "## Loading Data"
   ]
  },
  {
   "cell_type": "markdown",
   "id": "990de6a0-38cb-45a0-be65-3973210b02ec",
   "metadata": {},
   "source": [
    "Loading participant data"
   ]
  },
  {
   "cell_type": "code",
   "execution_count": 13,
   "id": "109fcffe-124e-42e8-a0fe-e5d038cc9b06",
   "metadata": {
    "tags": []
   },
   "outputs": [
    {
     "data": {
      "text/html": [
       "<div>\n",
       "<style scoped>\n",
       "    .dataframe tbody tr th:only-of-type {\n",
       "        vertical-align: middle;\n",
       "    }\n",
       "\n",
       "    .dataframe tbody tr th {\n",
       "        vertical-align: top;\n",
       "    }\n",
       "\n",
       "    .dataframe thead th {\n",
       "        text-align: right;\n",
       "    }\n",
       "</style>\n",
       "<table border=\"1\" class=\"dataframe\">\n",
       "  <thead>\n",
       "    <tr style=\"text-align: right;\">\n",
       "      <th></th>\n",
       "      <th>participant_id</th>\n",
       "      <th>age</th>\n",
       "      <th>gender</th>\n",
       "      <th>native_english</th>\n",
       "      <th>language_profile</th>\n",
       "      <th>language_spoken_at_home</th>\n",
       "      <th>exclude</th>\n",
       "      <th>note_IZ</th>\n",
       "    </tr>\n",
       "  </thead>\n",
       "  <tbody>\n",
       "    <tr>\n",
       "      <th>0</th>\n",
       "      <td>sub-01</td>\n",
       "      <td>30</td>\n",
       "      <td>F</td>\n",
       "      <td>No</td>\n",
       "      <td>Bilingual</td>\n",
       "      <td>Chinese</td>\n",
       "      <td>1</td>\n",
       "      <td>No data for final test-images part</td>\n",
       "    </tr>\n",
       "    <tr>\n",
       "      <th>1</th>\n",
       "      <td>sub-02</td>\n",
       "      <td>18</td>\n",
       "      <td>M</td>\n",
       "      <td>Yes</td>\n",
       "      <td>Monolingual</td>\n",
       "      <td>English</td>\n",
       "      <td>0</td>\n",
       "      <td>NaN</td>\n",
       "    </tr>\n",
       "    <tr>\n",
       "      <th>2</th>\n",
       "      <td>sub-03</td>\n",
       "      <td>20</td>\n",
       "      <td>F</td>\n",
       "      <td>Yes</td>\n",
       "      <td>Monolingual</td>\n",
       "      <td>English</td>\n",
       "      <td>0</td>\n",
       "      <td>NaN</td>\n",
       "    </tr>\n",
       "    <tr>\n",
       "      <th>3</th>\n",
       "      <td>sub-04</td>\n",
       "      <td>23</td>\n",
       "      <td>M</td>\n",
       "      <td>Yes</td>\n",
       "      <td>Monolingual</td>\n",
       "      <td>English</td>\n",
       "      <td>0</td>\n",
       "      <td>NaN</td>\n",
       "    </tr>\n",
       "    <tr>\n",
       "      <th>4</th>\n",
       "      <td>sub-05</td>\n",
       "      <td>20</td>\n",
       "      <td>M</td>\n",
       "      <td>Yes</td>\n",
       "      <td>Monolingual</td>\n",
       "      <td>English</td>\n",
       "      <td>0</td>\n",
       "      <td>NaN</td>\n",
       "    </tr>\n",
       "  </tbody>\n",
       "</table>\n",
       "</div>"
      ],
      "text/plain": [
       "  participant_id  age gender native_english language_profile  \\\n",
       "0         sub-01   30      F             No        Bilingual   \n",
       "1         sub-02   18      M            Yes      Monolingual   \n",
       "2         sub-03   20      F            Yes      Monolingual   \n",
       "3         sub-04   23      M            Yes      Monolingual   \n",
       "4         sub-05   20      M            Yes      Monolingual   \n",
       "\n",
       "  language_spoken_at_home  exclude                             note_IZ  \n",
       "0                 Chinese        1  No data for final test-images part  \n",
       "1                 English        0                                 NaN  \n",
       "2                 English        0                                 NaN  \n",
       "3                 English        0                                 NaN  \n",
       "4                 English        0                                 NaN  "
      ]
     },
     "execution_count": 13,
     "metadata": {},
     "output_type": "execute_result"
    }
   ],
   "source": [
    "participants_data = pd.read_csv(osp.join(DATA_PATH, \"participants.tsv\"), sep=\"\\t\")\n",
    "participants_data.head()"
   ]
  },
  {
   "cell_type": "markdown",
   "id": "6494e9fd-4554-4e47-8b62-acdc019a3808",
   "metadata": {},
   "source": [
    "Understanding what each header means"
   ]
  },
  {
   "cell_type": "code",
   "execution_count": 18,
   "id": "3c1f9fd0-bfb7-4308-81f0-6ba3b621572c",
   "metadata": {
    "tags": []
   },
   "outputs": [
    {
     "data": {
      "text/plain": [
       "{'participant_id': {'Description': 'participant number'},\n",
       " 'age': {'Description': 'participant age in years at time of acquisition'},\n",
       " 'gender': {'Description': 'participant self-reported gender (M:Male, F:Female)'},\n",
       " 'native_english': {'Description': 'Whether the participant was a native English speaker'},\n",
       " 'language_profile': {'Description': 'Number of languages spoken'},\n",
       " 'language_spoken_at_home': {'Description': 'Language spoken at home'},\n",
       " 'exclude': {'Description': '1 for suggested exclusion of participant due to very poor signal or missing data'},\n",
       " 'note_IZ': {'Description': 'Experimenter notes'}}"
      ]
     },
     "execution_count": 18,
     "metadata": {},
     "output_type": "execute_result"
    }
   ],
   "source": [
    "with open(osp.join(DATA_PATH, \"participants.json\"), \"rb\") as f:\n",
    "    participants_data_meta = json.load(f)\n",
    "participants_data_meta"
   ]
  },
  {
   "cell_type": "markdown",
   "id": "d9dc65e5-89a2-4036-8b54-8537dea8a525",
   "metadata": {
    "tags": []
   },
   "source": [
    "Loading a single participants EEG data using the mne package"
   ]
  },
  {
   "cell_type": "code",
   "execution_count": 7,
   "id": "3f793141-8d58-4d54-9506-8717f0a86269",
   "metadata": {
    "tags": []
   },
   "outputs": [
    {
     "name": "stdout",
     "output_type": "stream",
     "text": [
      "Extracting parameters from ../data/sub-01/eeg/sub-01_task-rsvp_eeg.vhdr...\n",
      "Setting channel info structure...\n"
     ]
    },
    {
     "data": {
      "text/html": [
       "<table class=\"table table-hover table-striped table-sm table-responsive small\">\n",
       "    <tr>\n",
       "        <th>Measurement date</th>\n",
       "        \n",
       "        <td>February 22, 2019  14:39:19 GMT</td>\n",
       "        \n",
       "    </tr>\n",
       "    <tr>\n",
       "        <th>Experimenter</th>\n",
       "        \n",
       "        <td>Unknown</td>\n",
       "        \n",
       "    </tr>\n",
       "        <th>Participant</th>\n",
       "        \n",
       "        <td>Unknown</td>\n",
       "        \n",
       "    </tr>\n",
       "    <tr>\n",
       "        <th>Digitized points</th>\n",
       "        \n",
       "        <td>66 points</td>\n",
       "        \n",
       "    </tr>\n",
       "    <tr>\n",
       "        <th>Good channels</th>\n",
       "        <td>63 EEG</td>\n",
       "    </tr>\n",
       "    <tr>\n",
       "        <th>Bad channels</th>\n",
       "        <td>None</td>\n",
       "    </tr>\n",
       "    <tr>\n",
       "        <th>EOG channels</th>\n",
       "        <td>Not available</td>\n",
       "    </tr>\n",
       "    <tr>\n",
       "        <th>ECG channels</th>\n",
       "        <td>Not available</td>\n",
       "    \n",
       "    <tr>\n",
       "        <th>Sampling frequency</th>\n",
       "        <td>1000.00 Hz</td>\n",
       "    </tr>\n",
       "    \n",
       "    \n",
       "    <tr>\n",
       "        <th>Highpass</th>\n",
       "        <td>0.00 Hz</td>\n",
       "    </tr>\n",
       "    \n",
       "    \n",
       "    <tr>\n",
       "        <th>Lowpass</th>\n",
       "        <td>280.00 Hz</td>\n",
       "    </tr>\n",
       "    \n",
       "    \n",
       "    \n",
       "    <tr>\n",
       "        <th>Filenames</th>\n",
       "        <td>sub-01_task-rsvp_eeg.eeg</td>\n",
       "    </tr>\n",
       "    \n",
       "    <tr>\n",
       "        <th>Duration</th>\n",
       "        <td>00:50:36 (HH:MM:SS)</td>\n",
       "    </tr>\n",
       "</table>"
      ],
      "text/plain": [
       "<RawBrainVision | sub-01_task-rsvp_eeg.eeg, 63 x 3035740 (3035.7 s), ~93 kB, data not loaded>"
      ]
     },
     "execution_count": 7,
     "metadata": {},
     "output_type": "execute_result"
    }
   ],
   "source": [
    "bv = mne.io.read_raw_brainvision(\"../data/sub-01/eeg/sub-01_task-rsvp_eeg.vhdr\")\n",
    "bv"
   ]
  },
  {
   "cell_type": "code",
   "execution_count": 24,
   "id": "86f7aa27-308f-40c5-a887-9dc1296708c7",
   "metadata": {
    "tags": []
   },
   "outputs": [],
   "source": [
    "# extract some useful values\n",
    "times = bv.times # time values of each sample\n",
    "N = bv.n_times # sample count\n",
    "channel_types = bv.get_channel_types()"
   ]
  },
  {
   "cell_type": "code",
   "execution_count": 8,
   "id": "ab59d4fb-9fae-447e-903d-5ccdc0d0d18a",
   "metadata": {
    "tags": []
   },
   "outputs": [
    {
     "data": {
      "text/plain": [
       "(63, 3035740)"
      ]
     },
     "execution_count": 8,
     "metadata": {},
     "output_type": "execute_result"
    }
   ],
   "source": [
    "data = bv.get_data()\n",
    "data.shape"
   ]
  },
  {
   "cell_type": "code",
   "execution_count": 25,
   "id": "1e42bc00-05a1-4413-b568-68861793a93b",
   "metadata": {
    "tags": []
   },
   "outputs": [
    {
     "data": {
      "text/plain": [
       "[<matplotlib.lines.Line2D at 0x7fadf87f8670>]"
      ]
     },
     "execution_count": 26,
     "metadata": {},
     "output_type": "execute_result"
    },
    {
     "data": {
      "image/png": "[encoded data removed]",
      "text/plain": [
       "<Figure size 640x480 with 1 Axes>"
      ]
     },
     "metadata": {},
     "output_type": "display_data"
    }
   ],
   "source": [
    "plt.plot(data[0][:20000])"
   ]
  },
  {
   "cell_type": "code",
   "execution_count": 15,
   "id": "b32928a5-2aad-4db9-813c-49cc101f6062",
   "metadata": {
    "tags": []
   },
   "outputs": [
    {
     "name": "stdout",
     "output_type": "stream",
     "text": [
      "Effective window size : 0.256 (s)\n"
     ]
    },
    {
     "data": {
      "text/plain": [
       "(63, 129)"
      ]
     },
     "execution_count": 15,
     "metadata": {},
     "output_type": "execute_result"
    }
   ],
   "source": [
    "welch_psd = bv.compute_psd()\n",
    "welch_psd.shape"
   ]
  }
 ],
 "metadata": {
  "kernelspec": {
   "display_name": "Python 3 (ipykernel)",
   "language": "python",
   "name": "python3"
  },
  "language_info": {
   "codemirror_mode": {
    "name": "ipython",
    "version": 3
   },
   "file_extension": ".py",
   "mimetype": "text/x-python",
   "name": "python",
   "nbconvert_exporter": "python",
   "pygments_lexer": "ipython3",
   "version": "3.8.16"
  }
 },
 "nbformat": 4,
 "nbformat_minor": 5
}
