{
 "cells": [
  {
   "cell_type": "code",
   "execution_count": 13,
   "id": "9097dd39-fd1d-46f3-be8b-0f895da0b68c",
   "metadata": {},
   "outputs": [],
   "source": [
    "import numpy as np\n",
    "import matplotlib.pyplot as plt\n",
    "import scipy\n",
    "import h5py\n",
    "import pandas as pd\n",
    "import os.path as osp\n",
    "import json\n",
    "from scipy.io import loadmat\n",
    "import mne\n",
    "import seaborn as sns"
   ]
  },
  {
   "cell_type": "code",
   "execution_count": 14,
   "id": "dfc046e1",
   "metadata": {},
   "outputs": [],
   "source": [
    "# mat = scipy.io.loadmat(\"../data/derivatives/RDM/stats_RDM_full.mat\")\n",
    "DATA_PATH = \"../data\""
   ]
  },
  {
   "cell_type": "markdown",
   "id": "e8c9365d-6f1a-43b0-accb-e1b997e9889d",
   "metadata": {},
   "source": [
    "## Loading Data"
   ]
  },
  {
   "cell_type": "markdown",
   "id": "990de6a0-38cb-45a0-be65-3973210b02ec",
   "metadata": {},
   "source": [
    "Loading participant data"
   ]
  },
  {
   "cell_type": "code",
   "execution_count": 15,
   "id": "109fcffe-124e-42e8-a0fe-e5d038cc9b06",
   "metadata": {
    "tags": []
   },
   "outputs": [
    {
     "name": "stdout",
     "output_type": "stream",
     "text": [
      "(50, 8)\n"
     ]
    }
   ],
   "source": [
    "participants_data = pd.read_csv(osp.join(DATA_PATH, \"participants.tsv\"), sep=\"\\t\")\n",
    "participants_data.head()\n",
    "print(participants_data.shape)"
   ]
  },
  {
   "cell_type": "markdown",
   "id": "6494e9fd-4554-4e47-8b62-acdc019a3808",
   "metadata": {},
   "source": [
    "Understanding what each header means"
   ]
  },
  {
   "cell_type": "code",
   "execution_count": 16,
   "id": "3c1f9fd0-bfb7-4308-81f0-6ba3b621572c",
   "metadata": {
    "tags": []
   },
   "outputs": [
    {
     "data": {
      "text/plain": [
       "{'participant_id': {'Description': 'participant number'},\n",
       " 'age': {'Description': 'participant age in years at time of acquisition'},\n",
       " 'gender': {'Description': 'participant self-reported gender (M:Male, F:Female)'},\n",
       " 'native_english': {'Description': 'Whether the participant was a native English speaker'},\n",
       " 'language_profile': {'Description': 'Number of languages spoken'},\n",
       " 'language_spoken_at_home': {'Description': 'Language spoken at home'},\n",
       " 'exclude': {'Description': '1 for suggested exclusion of participant due to very poor signal or missing data'},\n",
       " 'note_IZ': {'Description': 'Experimenter notes'}}"
      ]
     },
     "execution_count": 16,
     "metadata": {},
     "output_type": "execute_result"
    }
   ],
   "source": [
    "with open(osp.join(DATA_PATH, \"participants.json\"), \"rb\") as f:\n",
    "    participants_data_meta = json.load(f)\n",
    "participants_data_meta"
   ]
  },
  {
   "cell_type": "markdown",
   "id": "d9dc65e5-89a2-4036-8b54-8537dea8a525",
   "metadata": {
    "tags": []
   },
   "source": [
    "Loading a single participants EEG data using the mne package"
   ]
  },
  {
   "cell_type": "code",
   "execution_count": 17,
   "id": "3f793141-8d58-4d54-9506-8717f0a86269",
   "metadata": {
    "tags": []
   },
   "outputs": [
    {
     "name": "stdout",
     "output_type": "stream",
     "text": [
      "Extracting parameters from ../data/sub-01/eeg/sub-01_task-rsvp_eeg.vhdr...\n",
      "Setting channel info structure...\n"
     ]
    },
    {
     "data": {
      "text/html": [
       "<table class=\"table table-hover table-striped table-sm table-responsive small\">\n",
       "    <tr>\n",
       "        <th>Measurement date</th>\n",
       "        \n",
       "        <td>February 22, 2019  14:39:19 GMT</td>\n",
       "        \n",
       "    </tr>\n",
       "    <tr>\n",
       "        <th>Experimenter</th>\n",
       "        \n",
       "        <td>Unknown</td>\n",
       "        \n",
       "    </tr>\n",
       "        <th>Participant</th>\n",
       "        \n",
       "        <td>Unknown</td>\n",
       "        \n",
       "    </tr>\n",
       "    <tr>\n",
       "        <th>Digitized points</th>\n",
       "        \n",
       "        <td>66 points</td>\n",
       "        \n",
       "    </tr>\n",
       "    <tr>\n",
       "        <th>Good channels</th>\n",
       "        <td>63 EEG</td>\n",
       "    </tr>\n",
       "    <tr>\n",
       "        <th>Bad channels</th>\n",
       "        <td>None</td>\n",
       "    </tr>\n",
       "    <tr>\n",
       "        <th>EOG channels</th>\n",
       "        <td>Not available</td>\n",
       "    </tr>\n",
       "    <tr>\n",
       "        <th>ECG channels</th>\n",
       "        <td>Not available</td>\n",
       "    \n",
       "    <tr>\n",
       "        <th>Sampling frequency</th>\n",
       "        <td>1000.00 Hz</td>\n",
       "    </tr>\n",
       "    \n",
       "    \n",
       "    <tr>\n",
       "        <th>Highpass</th>\n",
       "        <td>0.00 Hz</td>\n",
       "    </tr>\n",
       "    \n",
       "    \n",
       "    <tr>\n",
       "        <th>Lowpass</th>\n",
       "        <td>280.00 Hz</td>\n",
       "    </tr>\n",
       "    \n",
       "    \n",
       "    \n",
       "    <tr>\n",
       "        <th>Filenames</th>\n",
       "        <td>sub-01_task-rsvp_eeg.eeg</td>\n",
       "    </tr>\n",
       "    \n",
       "    <tr>\n",
       "        <th>Duration</th>\n",
       "        <td>00:50:36 (HH:MM:SS)</td>\n",
       "    </tr>\n",
       "</table>"
      ],
      "text/plain": [
       "<RawBrainVision | sub-01_task-rsvp_eeg.eeg, 63 x 3035740 (3035.7 s), ~93 kB, data not loaded>"
      ]
     },
     "execution_count": 17,
     "metadata": {},
     "output_type": "execute_result"
    }
   ],
   "source": [
    "bv = mne.io.read_raw_brainvision(\"../data/sub-01/eeg/sub-01_task-rsvp_eeg.vhdr\")\n",
    "bv"
   ]
  },
  {
   "cell_type": "code",
   "execution_count": 18,
   "id": "86f7aa27-308f-40c5-a887-9dc1296708c7",
   "metadata": {
    "tags": []
   },
   "outputs": [],
   "source": [
    "# extract some useful values\n",
    "times = bv.times # time values of each sample\n",
    "N = bv.n_times # sample count\n",
    "channel_types = bv.get_channel_types()"
   ]
  },
  {
   "cell_type": "code",
   "execution_count": 19,
   "id": "ab59d4fb-9fae-447e-903d-5ccdc0d0d18a",
   "metadata": {
    "tags": []
   },
   "outputs": [
    {
     "data": {
      "text/plain": [
       "(63, 3035740)"
      ]
     },
     "execution_count": 19,
     "metadata": {},
     "output_type": "execute_result"
    }
   ],
   "source": [
    "data = bv.get_data()\n",
    "data.shape"
   ]
  },
  {
   "cell_type": "code",
   "execution_count": 20,
   "id": "1e42bc00-05a1-4413-b568-68861793a93b",
   "metadata": {
    "tags": []
   },
   "outputs": [
    {
     "data": {
      "text/plain": [
       "[<matplotlib.lines.Line2D at 0x17cb1b6e8e0>]"
      ]
     },
     "execution_count": 20,
     "metadata": {},
     "output_type": "execute_result"
    },
    {
     "data": {
      "image/png": "[encoded data removed]",
      "text/plain": [
       "<Figure size 640x480 with 1 Axes>"
      ]
     },
     "metadata": {},
     "output_type": "display_data"
    }
   ],
   "source": [
    "plt.plot(data[0][:50000])"
   ]
  },
  {
   "cell_type": "code",
   "execution_count": 11,
   "id": "8be559d6",
   "metadata": {
    "tags": []
   },
   "outputs": [
    {
     "name": "stdout",
     "output_type": "stream",
     "text": [
      "Effective window size : 0.256 (s)\n"
     ]
    },
    {
     "data": {
      "text/plain": [
       "(63, 129)"
      ]
     },
     "execution_count": 11,
     "metadata": {},
     "output_type": "execute_result"
    }
   ],
   "source": [
    "welch_psd = bv.compute_psd()\n",
    "welch_psd.shape"
   ]
  },
  {
   "attachments": {},
   "cell_type": "markdown",
   "id": "6fd05084",
   "metadata": {},
   "source": [
    "This is Ethan's contribution. Here is a variable you want to assign for the results: `eeg_spike_results`. It is an array of arrays with the count of the EEG spikes.\n",
    "\n",
    "Right now I only put 3 entries of 3 features, as an example."
   ]
  },
  {
   "cell_type": "code",
   "execution_count": null,
   "id": "ef38d58a",
   "metadata": {},
   "outputs": [
    {
     "name": "stdout",
     "output_type": "stream",
     "text": [
      "[[150  50  75]\n",
      " [100 100  75]\n",
      " [  0   0 275]]\n",
      "[ 83.33333333  50.         141.66666667]\n",
      "            Spike threshold reached on average\n",
      "artificial                           83.333333\n",
      "natural                              50.000000\n",
      "food                                141.666667\n"
     ]
    },
    {
     "data": {
      "image/png": "[encoded data removed]",
      "text/plain": [
       "<Figure size 640x480 with 1 Axes>"
      ]
     },
     "metadata": {},
     "output_type": "display_data"
    }
   ],
   "source": [
    "eeg_categories = [\"artificial\", \"natural\", \"food\"]\n",
    "eeg_spike_results = np.array([[150, 50, 75], [100, 100, 75], [0, 0, 275]])\n",
    "eeg_spike_avg = []\n",
    "\n",
    "print(eeg_spike_results)\n",
    "\n",
    "# take the average of each column\n",
    "for i in range(len(eeg_spike_results)):\n",
    "    eeg_spike_avg.append(np.mean(eeg_spike_results[:, i]))\n",
    "\n",
    "eeg_df = pd.DataFrame(data = np.array(eeg_spike_avg).transpose(), index = eeg_categories, columns = [\"Spike threshold reached on average\"])\n",
    "print(eeg_df)\n",
    "\n",
    "plot_results = sns.barplot(x = eeg_df.index, y = eeg_df[\"Spike threshold reached on average\"])"
   ]
  },
  {
   "attachments": {},
   "cell_type": "markdown",
   "id": "d2f198cc",
   "metadata": {},
   "source": [
    "Analysis:\n",
    "\n",
    "We will use the 1 way ANOVA test to see if there is a significant difference between subjects so we know that it isn't just preference what makes people happy.\n",
    "\n",
    "Null Hypothesis: There is a significant difference between the means of the participants' scores that people have their given category invoke happy feelings.\n",
    "\n",
    "Alternative Hypothesis: There is no significant difference between the means of the participants' scores that people have their given category invoke happy feelings."
   ]
  },
  {
   "cell_type": "code",
   "execution_count": null,
   "id": "915cb5d9",
   "metadata": {},
   "outputs": [
    {
     "name": "stdout",
     "output_type": "stream",
     "text": [
      "F_onewayResult(statistic=0.8942307692307692, pvalue=0.457192094701011)\n"
     ]
    }
   ],
   "source": [
    "from scipy.stats import f_oneway\n",
    "\n",
    "# 1 way ANOVA test\n",
    "print(f_oneway(*eeg_spike_results.transpose().tolist()))"
   ]
  },
  {
   "attachments": {},
   "cell_type": "markdown",
   "id": "40e5aad2",
   "metadata": {},
   "source": [
    "Because the p-value is ________ than the alpha value of 0.05, we can..."
   ]
  }
 ],
 "metadata": {
  "kernelspec": {
   "display_name": "Python 3 (ipykernel)",
   "language": "python",
   "name": "python3"
  },
  "language_info": {
   "codemirror_mode": {
    "name": "ipython",
    "version": 3
   },
   "file_extension": ".py",
   "mimetype": "text/x-python",
   "name": "python",
   "nbconvert_exporter": "python",
   "pygments_lexer": "ipython3",
   "version": "3.8.16"
  }
 },
 "nbformat": 4,
 "nbformat_minor": 5
}
