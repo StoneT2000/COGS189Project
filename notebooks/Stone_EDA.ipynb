{
 "cells": [
  {
   "cell_type": "code",
   "execution_count": 2,
   "id": "9097dd39-fd1d-46f3-be8b-0f895da0b68c",
   "metadata": {},
   "outputs": [],
   "source": [
    "import numpy as np\n",
    "import matplotlib.pyplot as plt\n",
    "import scipy\n",
    "import h5py\n",
    "import pandas as pd\n",
    "import os.path as osp\n",
    "import json\n",
    "from scipy.io import loadmat\n",
    "import mne\n",
    "import seaborn as sns"
   ]
  },
  {
   "cell_type": "code",
   "execution_count": 14,
   "id": "dfc046e1",
   "metadata": {},
   "outputs": [],
   "source": [
    "# mat = scipy.io.loadmat(\"../data/derivatives/RDM/stats_RDM_full.mat\")\n",
    "DATA_PATH = \"../data\""
   ]
  },
  {
   "cell_type": "markdown",
   "id": "e8c9365d-6f1a-43b0-accb-e1b997e9889d",
   "metadata": {},
   "source": [
    "## Loading Data"
   ]
  },
  {
   "cell_type": "markdown",
   "id": "990de6a0-38cb-45a0-be65-3973210b02ec",
   "metadata": {},
   "source": [
    "Loading participant data"
   ]
  },
  {
   "cell_type": "code",
   "execution_count": 15,
   "id": "109fcffe-124e-42e8-a0fe-e5d038cc9b06",
   "metadata": {
    "tags": []
   },
   "outputs": [
    {
     "name": "stdout",
     "output_type": "stream",
     "text": [
      "(50, 8)\n"
     ]
    }
   ],
   "source": [
    "participants_data = pd.read_csv(osp.join(DATA_PATH, \"participants.tsv\"), sep=\"\\t\")\n",
    "participants_data.head()\n",
    "print(participants_data.shape)"
   ]
  },
  {
   "cell_type": "markdown",
   "id": "6494e9fd-4554-4e47-8b62-acdc019a3808",
   "metadata": {},
   "source": [
    "Understanding what each header means"
   ]
  },
  {
   "cell_type": "code",
   "execution_count": 16,
   "id": "3c1f9fd0-bfb7-4308-81f0-6ba3b621572c",
   "metadata": {
    "tags": []
   },
   "outputs": [
    {
     "data": {
      "text/plain": [
       "{'participant_id': {'Description': 'participant number'},\n",
       " 'age': {'Description': 'participant age in years at time of acquisition'},\n",
       " 'gender': {'Description': 'participant self-reported gender (M:Male, F:Female)'},\n",
       " 'native_english': {'Description': 'Whether the participant was a native English speaker'},\n",
       " 'language_profile': {'Description': 'Number of languages spoken'},\n",
       " 'language_spoken_at_home': {'Description': 'Language spoken at home'},\n",
       " 'exclude': {'Description': '1 for suggested exclusion of participant due to very poor signal or missing data'},\n",
       " 'note_IZ': {'Description': 'Experimenter notes'}}"
      ]
     },
     "execution_count": 16,
     "metadata": {},
     "output_type": "execute_result"
    }
   ],
   "source": [
    "with open(osp.join(DATA_PATH, \"participants.json\"), \"rb\") as f:\n",
    "    participants_data_meta = json.load(f)\n",
    "participants_data_meta"
   ]
  },
  {
   "cell_type": "markdown",
   "id": "d9dc65e5-89a2-4036-8b54-8537dea8a525",
   "metadata": {
    "tags": []
   },
   "source": [
    "Loading a single participants EEG data using the mne package"
   ]
  },
  {
   "cell_type": "code",
   "execution_count": 17,
   "id": "3f793141-8d58-4d54-9506-8717f0a86269",
   "metadata": {
    "tags": []
   },
   "outputs": [
    {
     "name": "stdout",
     "output_type": "stream",
     "text": [
      "Extracting parameters from ../data/sub-01/eeg/sub-01_task-rsvp_eeg.vhdr...\n",
      "Setting channel info structure...\n"
     ]
    },
    {
     "data": {
      "text/html": [
       "<table class=\"table table-hover table-striped table-sm table-responsive small\">\n",
       "    <tr>\n",
       "        <th>Measurement date</th>\n",
       "        \n",
       "        <td>February 22, 2019  14:39:19 GMT</td>\n",
       "        \n",
       "    </tr>\n",
       "    <tr>\n",
       "        <th>Experimenter</th>\n",
       "        \n",
       "        <td>Unknown</td>\n",
       "        \n",
       "    </tr>\n",
       "        <th>Participant</th>\n",
       "        \n",
       "        <td>Unknown</td>\n",
       "        \n",
       "    </tr>\n",
       "    <tr>\n",
       "        <th>Digitized points</th>\n",
       "        \n",
       "        <td>66 points</td>\n",
       "        \n",
       "    </tr>\n",
       "    <tr>\n",
       "        <th>Good channels</th>\n",
       "        <td>63 EEG</td>\n",
       "    </tr>\n",
       "    <tr>\n",
       "        <th>Bad channels</th>\n",
       "        <td>None</td>\n",
       "    </tr>\n",
       "    <tr>\n",
       "        <th>EOG channels</th>\n",
       "        <td>Not available</td>\n",
       "    </tr>\n",
       "    <tr>\n",
       "        <th>ECG channels</th>\n",
       "        <td>Not available</td>\n",
       "    \n",
       "    <tr>\n",
       "        <th>Sampling frequency</th>\n",
       "        <td>1000.00 Hz</td>\n",
       "    </tr>\n",
       "    \n",
       "    \n",
       "    <tr>\n",
       "        <th>Highpass</th>\n",
       "        <td>0.00 Hz</td>\n",
       "    </tr>\n",
       "    \n",
       "    \n",
       "    <tr>\n",
       "        <th>Lowpass</th>\n",
       "        <td>280.00 Hz</td>\n",
       "    </tr>\n",
       "    \n",
       "    \n",
       "    \n",
       "    <tr>\n",
       "        <th>Filenames</th>\n",
       "        <td>sub-01_task-rsvp_eeg.eeg</td>\n",
       "    </tr>\n",
       "    \n",
       "    <tr>\n",
       "        <th>Duration</th>\n",
       "        <td>00:50:36 (HH:MM:SS)</td>\n",
       "    </tr>\n",
       "</table>"
      ],
      "text/plain": [
       "<RawBrainVision | sub-01_task-rsvp_eeg.eeg, 63 x 3035740 (3035.7 s), ~93 kB, data not loaded>"
      ]
     },
     "execution_count": 17,
     "metadata": {},
     "output_type": "execute_result"
    }
   ],
   "source": [
    "bv = mne.io.read_raw_brainvision(\"../data/sub-01/eeg/sub-01_task-rsvp_eeg.vhdr\")\n",
    "bv"
   ]
  },
  {
   "cell_type": "code",
   "execution_count": 18,
   "id": "86f7aa27-308f-40c5-a887-9dc1296708c7",
   "metadata": {
    "tags": []
   },
   "outputs": [],
   "source": [
    "# extract some useful values\n",
    "times = bv.times # time values of each sample\n",
    "N = bv.n_times # sample count\n",
    "channel_types = bv.get_channel_types()"
   ]
  },
  {
   "cell_type": "code",
   "execution_count": 19,
   "id": "ab59d4fb-9fae-447e-903d-5ccdc0d0d18a",
   "metadata": {
    "tags": []
   },
   "outputs": [
    {
     "data": {
      "text/plain": [
       "(63, 3035740)"
      ]
     },
     "execution_count": 19,
     "metadata": {},
     "output_type": "execute_result"
    }
   ],
   "source": [
    "data = bv.get_data()\n",
    "data.shape"
   ]
  },
  {
   "cell_type": "code",
   "execution_count": 29,
   "id": "1e42bc00-05a1-4413-b568-68861793a93b",
   "metadata": {
    "tags": []
   },
   "outputs": [
    {
     "data": {
      "text/plain": [
       "<matplotlib.patches.Polygon at 0x287ac4f93a0>"
      ]
     },
     "execution_count": 29,
     "metadata": {},
     "output_type": "execute_result"
    },
    {
     "data": {
      "image/png": "[encoded data removed]",
      "text/plain": [
       "<Figure size 640x480 with 1 Axes>"
      ]
     },
     "metadata": {},
     "output_type": "display_data"
    }
   ],
   "source": [
    "ax = plt.plot(data[0][:50000])\n",
    "# Zoom in\n",
    "plt.axvspan(10000, 11000, facecolor='red', alpha=.2)"
   ]
  },
  {
   "cell_type": "code",
   "execution_count": 30,
   "id": "d28c109f",
   "metadata": {},
   "outputs": [
    {
     "data": {
      "text/plain": [
       "[<matplotlib.lines.Line2D at 0x287ac5ba700>]"
      ]
     },
     "execution_count": 30,
     "metadata": {},
     "output_type": "execute_result"
    },
    {
     "data": {
      "image/png": "[encoded data removed]",
      "text/plain": [
       "<Figure size 640x480 with 1 Axes>"
      ]
     },
     "metadata": {},
     "output_type": "display_data"
    }
   ],
   "source": [
    "plt.plot(data[0][10000:11000])"
   ]
  },
  {
   "cell_type": "code",
   "execution_count": 31,
   "id": "8be559d6",
   "metadata": {
    "tags": []
   },
   "outputs": [
    {
     "name": "stdout",
     "output_type": "stream",
     "text": [
      "Effective window size : 0.256 (s)\n"
     ]
    },
    {
     "data": {
      "text/plain": [
       "(63, 129)"
      ]
     },
     "execution_count": 31,
     "metadata": {},
     "output_type": "execute_result"
    }
   ],
   "source": [
    "welch_psd = bv.compute_psd()\n",
    "welch_psd.shape"
   ]
  },
  {
   "attachments": {},
   "cell_type": "markdown",
   "id": "eb7bcede",
   "metadata": {},
   "source": [
    "EDA for subject 1\n",
    "--"
   ]
  },
  {
   "cell_type": "code",
   "execution_count": 33,
   "id": "3ec6a6e0",
   "metadata": {},
   "outputs": [
    {
     "data": {
      "text/html": [
       "<div>\n",
       "<style scoped>\n",
       "    .dataframe tbody tr th:only-of-type {\n",
       "        vertical-align: middle;\n",
       "    }\n",
       "\n",
       "    .dataframe tbody tr th {\n",
       "        vertical-align: top;\n",
       "    }\n",
       "\n",
       "    .dataframe thead th {\n",
       "        text-align: right;\n",
       "    }\n",
       "</style>\n",
       "<table border=\"1\" class=\"dataframe\">\n",
       "  <thead>\n",
       "    <tr style=\"text-align: right;\">\n",
       "      <th></th>\n",
       "      <th>eventnumber</th>\n",
       "      <th>objectnumber</th>\n",
       "      <th>object</th>\n",
       "      <th>sequencenumber</th>\n",
       "      <th>presentationnumber</th>\n",
       "      <th>blocksequencenumber</th>\n",
       "      <th>withinsequencenumber</th>\n",
       "      <th>stimnumber</th>\n",
       "      <th>stim</th>\n",
       "      <th>istarget</th>\n",
       "      <th>stimname</th>\n",
       "      <th>response</th>\n",
       "      <th>rt</th>\n",
       "      <th>correct</th>\n",
       "      <th>time_stimon</th>\n",
       "      <th>time_stimoff</th>\n",
       "      <th>stimdur</th>\n",
       "    </tr>\n",
       "  </thead>\n",
       "  <tbody>\n",
       "    <tr>\n",
       "      <th>0</th>\n",
       "      <td>0</td>\n",
       "      <td>275</td>\n",
       "      <td>carousel</td>\n",
       "      <td>0</td>\n",
       "      <td>0</td>\n",
       "      <td>0</td>\n",
       "      <td>0</td>\n",
       "      <td>10</td>\n",
       "      <td>stimuli\\carousel\\carousel_11s.jpg</td>\n",
       "      <td>0</td>\n",
       "      <td>carousel_11s.jpg</td>\n",
       "      <td>0.0</td>\n",
       "      <td>0.0</td>\n",
       "      <td>0.0</td>\n",
       "      <td>61.552560</td>\n",
       "      <td>61.602540</td>\n",
       "      <td>0.049980</td>\n",
       "    </tr>\n",
       "    <tr>\n",
       "      <th>1</th>\n",
       "      <td>1</td>\n",
       "      <td>1165</td>\n",
       "      <td>piano</td>\n",
       "      <td>0</td>\n",
       "      <td>1</td>\n",
       "      <td>0</td>\n",
       "      <td>0</td>\n",
       "      <td>4</td>\n",
       "      <td>stimuli\\piano\\piano_05n.jpg</td>\n",
       "      <td>0</td>\n",
       "      <td>piano_05n.jpg</td>\n",
       "      <td>0.0</td>\n",
       "      <td>0.0</td>\n",
       "      <td>0.0</td>\n",
       "      <td>61.652560</td>\n",
       "      <td>61.702538</td>\n",
       "      <td>0.049977</td>\n",
       "    </tr>\n",
       "    <tr>\n",
       "      <th>2</th>\n",
       "      <td>2</td>\n",
       "      <td>1735</td>\n",
       "      <td>turntable</td>\n",
       "      <td>0</td>\n",
       "      <td>2</td>\n",
       "      <td>0</td>\n",
       "      <td>0</td>\n",
       "      <td>11</td>\n",
       "      <td>stimuli\\turntable\\turntable_12s.jpg</td>\n",
       "      <td>0</td>\n",
       "      <td>turntable_12s.jpg</td>\n",
       "      <td>0.0</td>\n",
       "      <td>0.0</td>\n",
       "      <td>0.0</td>\n",
       "      <td>61.752561</td>\n",
       "      <td>61.802545</td>\n",
       "      <td>0.049984</td>\n",
       "    </tr>\n",
       "    <tr>\n",
       "      <th>3</th>\n",
       "      <td>3</td>\n",
       "      <td>1643</td>\n",
       "      <td>tent</td>\n",
       "      <td>0</td>\n",
       "      <td>3</td>\n",
       "      <td>0</td>\n",
       "      <td>0</td>\n",
       "      <td>7</td>\n",
       "      <td>stimuli\\tent\\tent_08n.jpg</td>\n",
       "      <td>0</td>\n",
       "      <td>tent_08n.jpg</td>\n",
       "      <td>0.0</td>\n",
       "      <td>0.0</td>\n",
       "      <td>0.0</td>\n",
       "      <td>61.852564</td>\n",
       "      <td>61.902516</td>\n",
       "      <td>0.049951</td>\n",
       "    </tr>\n",
       "    <tr>\n",
       "      <th>4</th>\n",
       "      <td>4</td>\n",
       "      <td>1564</td>\n",
       "      <td>stove2</td>\n",
       "      <td>0</td>\n",
       "      <td>4</td>\n",
       "      <td>0</td>\n",
       "      <td>0</td>\n",
       "      <td>8</td>\n",
       "      <td>stimuli\\stove2\\stove2_09s.jpg</td>\n",
       "      <td>0</td>\n",
       "      <td>stove2_09s.jpg</td>\n",
       "      <td>0.0</td>\n",
       "      <td>0.0</td>\n",
       "      <td>0.0</td>\n",
       "      <td>61.952542</td>\n",
       "      <td>62.002516</td>\n",
       "      <td>0.049974</td>\n",
       "    </tr>\n",
       "  </tbody>\n",
       "</table>\n",
       "</div>"
      ],
      "text/plain": [
       "   eventnumber  objectnumber     object  sequencenumber  presentationnumber  \\\n",
       "0            0           275   carousel               0                   0   \n",
       "1            1          1165      piano               0                   1   \n",
       "2            2          1735  turntable               0                   2   \n",
       "3            3          1643       tent               0                   3   \n",
       "4            4          1564     stove2               0                   4   \n",
       "\n",
       "   blocksequencenumber  withinsequencenumber  stimnumber  \\\n",
       "0                    0                     0          10   \n",
       "1                    0                     0           4   \n",
       "2                    0                     0          11   \n",
       "3                    0                     0           7   \n",
       "4                    0                     0           8   \n",
       "\n",
       "                                  stim  istarget           stimname  response  \\\n",
       "0    stimuli\\carousel\\carousel_11s.jpg         0   carousel_11s.jpg       0.0   \n",
       "1          stimuli\\piano\\piano_05n.jpg         0      piano_05n.jpg       0.0   \n",
       "2  stimuli\\turntable\\turntable_12s.jpg         0  turntable_12s.jpg       0.0   \n",
       "3            stimuli\\tent\\tent_08n.jpg         0       tent_08n.jpg       0.0   \n",
       "4        stimuli\\stove2\\stove2_09s.jpg         0     stove2_09s.jpg       0.0   \n",
       "\n",
       "    rt  correct  time_stimon  time_stimoff   stimdur  \n",
       "0  0.0      0.0    61.552560     61.602540  0.049980  \n",
       "1  0.0      0.0    61.652560     61.702538  0.049977  \n",
       "2  0.0      0.0    61.752561     61.802545  0.049984  \n",
       "3  0.0      0.0    61.852564     61.902516  0.049951  \n",
       "4  0.0      0.0    61.952542     62.002516  0.049974  "
      ]
     },
     "execution_count": 33,
     "metadata": {},
     "output_type": "execute_result"
    }
   ],
   "source": [
    "df1 = pd.read_csv(osp.join(DATA_PATH, \"sub-01/eeg/sub-01_task-rsvp_events.csv\"))\n",
    "df1.head()"
   ]
  },
  {
   "cell_type": "code",
   "execution_count": 34,
   "id": "db590a31",
   "metadata": {},
   "outputs": [
    {
     "data": {
      "text/html": [
       "<div>\n",
       "<style scoped>\n",
       "    .dataframe tbody tr th:only-of-type {\n",
       "        vertical-align: middle;\n",
       "    }\n",
       "\n",
       "    .dataframe tbody tr th {\n",
       "        vertical-align: top;\n",
       "    }\n",
       "\n",
       "    .dataframe thead th {\n",
       "        text-align: right;\n",
       "    }\n",
       "</style>\n",
       "<table border=\"1\" class=\"dataframe\">\n",
       "  <thead>\n",
       "    <tr style=\"text-align: right;\">\n",
       "      <th></th>\n",
       "      <th>time_stimoff</th>\n",
       "      <th>time_stimon</th>\n",
       "      <th>stimdur</th>\n",
       "    </tr>\n",
       "  </thead>\n",
       "  <tbody>\n",
       "    <tr>\n",
       "      <th>count</th>\n",
       "      <td>22248.000000</td>\n",
       "      <td>22248.000000</td>\n",
       "      <td>22248.000000</td>\n",
       "    </tr>\n",
       "    <tr>\n",
       "      <th>mean</th>\n",
       "      <td>1553.889417</td>\n",
       "      <td>1553.839433</td>\n",
       "      <td>0.049984</td>\n",
       "    </tr>\n",
       "    <tr>\n",
       "      <th>std</th>\n",
       "      <td>897.850962</td>\n",
       "      <td>897.850966</td>\n",
       "      <td>0.000276</td>\n",
       "    </tr>\n",
       "    <tr>\n",
       "      <th>min</th>\n",
       "      <td>61.602540</td>\n",
       "      <td>61.552560</td>\n",
       "      <td>0.047609</td>\n",
       "    </tr>\n",
       "    <tr>\n",
       "      <th>25%</th>\n",
       "      <td>756.204358</td>\n",
       "      <td>756.154372</td>\n",
       "      <td>0.049976</td>\n",
       "    </tr>\n",
       "    <tr>\n",
       "      <th>50%</th>\n",
       "      <td>1520.591367</td>\n",
       "      <td>1520.541387</td>\n",
       "      <td>0.049980</td>\n",
       "    </tr>\n",
       "    <tr>\n",
       "      <th>75%</th>\n",
       "      <td>2357.138630</td>\n",
       "      <td>2357.088649</td>\n",
       "      <td>0.049985</td>\n",
       "    </tr>\n",
       "    <tr>\n",
       "      <th>max</th>\n",
       "      <td>3074.016016</td>\n",
       "      <td>3073.966039</td>\n",
       "      <td>0.083347</td>\n",
       "    </tr>\n",
       "  </tbody>\n",
       "</table>\n",
       "</div>"
      ],
      "text/plain": [
       "       time_stimoff   time_stimon       stimdur\n",
       "count  22248.000000  22248.000000  22248.000000\n",
       "mean    1553.889417   1553.839433      0.049984\n",
       "std      897.850962    897.850966      0.000276\n",
       "min       61.602540     61.552560      0.047609\n",
       "25%      756.204358    756.154372      0.049976\n",
       "50%     1520.591367   1520.541387      0.049980\n",
       "75%     2357.138630   2357.088649      0.049985\n",
       "max     3074.016016   3073.966039      0.083347"
      ]
     },
     "execution_count": 34,
     "metadata": {},
     "output_type": "execute_result"
    }
   ],
   "source": [
    "df1[['time_stimoff', 'time_stimon', 'stimdur']].describe()"
   ]
  },
  {
   "cell_type": "code",
   "execution_count": 50,
   "id": "3896dd64",
   "metadata": {},
   "outputs": [
    {
     "data": {
      "text/html": [
       "<div>\n",
       "<style scoped>\n",
       "    .dataframe tbody tr th:only-of-type {\n",
       "        vertical-align: middle;\n",
       "    }\n",
       "\n",
       "    .dataframe tbody tr th {\n",
       "        vertical-align: top;\n",
       "    }\n",
       "\n",
       "    .dataframe thead th {\n",
       "        text-align: right;\n",
       "    }\n",
       "</style>\n",
       "<table border=\"1\" class=\"dataframe\">\n",
       "  <thead>\n",
       "    <tr style=\"text-align: right;\">\n",
       "      <th></th>\n",
       "      <th>eventnumber</th>\n",
       "      <th>objectnumber</th>\n",
       "      <th>object</th>\n",
       "      <th>sequencenumber</th>\n",
       "      <th>presentationnumber</th>\n",
       "      <th>blocksequencenumber</th>\n",
       "      <th>withinsequencenumber</th>\n",
       "      <th>stimnumber</th>\n",
       "      <th>stim</th>\n",
       "      <th>istarget</th>\n",
       "      <th>stimname</th>\n",
       "      <th>response</th>\n",
       "      <th>rt</th>\n",
       "      <th>correct</th>\n",
       "      <th>time_stimon</th>\n",
       "      <th>time_stimoff</th>\n",
       "      <th>stimdur</th>\n",
       "    </tr>\n",
       "  </thead>\n",
       "  <tbody>\n",
       "    <tr>\n",
       "      <th>0</th>\n",
       "      <td>0</td>\n",
       "      <td>275</td>\n",
       "      <td>carousel</td>\n",
       "      <td>0</td>\n",
       "      <td>0</td>\n",
       "      <td>0</td>\n",
       "      <td>0</td>\n",
       "      <td>10</td>\n",
       "      <td>stimuli\\carousel\\carousel_11s.jpg</td>\n",
       "      <td>0</td>\n",
       "      <td>carousel</td>\n",
       "      <td>0.0</td>\n",
       "      <td>0.0</td>\n",
       "      <td>0.0</td>\n",
       "      <td>61.552560</td>\n",
       "      <td>61.602540</td>\n",
       "      <td>0.049980</td>\n",
       "    </tr>\n",
       "    <tr>\n",
       "      <th>1</th>\n",
       "      <td>1</td>\n",
       "      <td>1165</td>\n",
       "      <td>piano</td>\n",
       "      <td>0</td>\n",
       "      <td>1</td>\n",
       "      <td>0</td>\n",
       "      <td>0</td>\n",
       "      <td>4</td>\n",
       "      <td>stimuli\\piano\\piano_05n.jpg</td>\n",
       "      <td>0</td>\n",
       "      <td>piano</td>\n",
       "      <td>0.0</td>\n",
       "      <td>0.0</td>\n",
       "      <td>0.0</td>\n",
       "      <td>61.652560</td>\n",
       "      <td>61.702538</td>\n",
       "      <td>0.049977</td>\n",
       "    </tr>\n",
       "    <tr>\n",
       "      <th>2</th>\n",
       "      <td>2</td>\n",
       "      <td>1735</td>\n",
       "      <td>turntable</td>\n",
       "      <td>0</td>\n",
       "      <td>2</td>\n",
       "      <td>0</td>\n",
       "      <td>0</td>\n",
       "      <td>11</td>\n",
       "      <td>stimuli\\turntable\\turntable_12s.jpg</td>\n",
       "      <td>0</td>\n",
       "      <td>turntable</td>\n",
       "      <td>0.0</td>\n",
       "      <td>0.0</td>\n",
       "      <td>0.0</td>\n",
       "      <td>61.752561</td>\n",
       "      <td>61.802545</td>\n",
       "      <td>0.049984</td>\n",
       "    </tr>\n",
       "    <tr>\n",
       "      <th>3</th>\n",
       "      <td>3</td>\n",
       "      <td>1643</td>\n",
       "      <td>tent</td>\n",
       "      <td>0</td>\n",
       "      <td>3</td>\n",
       "      <td>0</td>\n",
       "      <td>0</td>\n",
       "      <td>7</td>\n",
       "      <td>stimuli\\tent\\tent_08n.jpg</td>\n",
       "      <td>0</td>\n",
       "      <td>tent</td>\n",
       "      <td>0.0</td>\n",
       "      <td>0.0</td>\n",
       "      <td>0.0</td>\n",
       "      <td>61.852564</td>\n",
       "      <td>61.902516</td>\n",
       "      <td>0.049951</td>\n",
       "    </tr>\n",
       "    <tr>\n",
       "      <th>4</th>\n",
       "      <td>4</td>\n",
       "      <td>1564</td>\n",
       "      <td>stove</td>\n",
       "      <td>0</td>\n",
       "      <td>4</td>\n",
       "      <td>0</td>\n",
       "      <td>0</td>\n",
       "      <td>8</td>\n",
       "      <td>stimuli\\stove2\\stove2_09s.jpg</td>\n",
       "      <td>0</td>\n",
       "      <td>stove</td>\n",
       "      <td>0.0</td>\n",
       "      <td>0.0</td>\n",
       "      <td>0.0</td>\n",
       "      <td>61.952542</td>\n",
       "      <td>62.002516</td>\n",
       "      <td>0.049974</td>\n",
       "    </tr>\n",
       "  </tbody>\n",
       "</table>\n",
       "</div>"
      ],
      "text/plain": [
       "   eventnumber  objectnumber     object  sequencenumber  presentationnumber  \\\n",
       "0            0           275   carousel               0                   0   \n",
       "1            1          1165      piano               0                   1   \n",
       "2            2          1735  turntable               0                   2   \n",
       "3            3          1643       tent               0                   3   \n",
       "4            4          1564      stove               0                   4   \n",
       "\n",
       "   blocksequencenumber  withinsequencenumber  stimnumber  \\\n",
       "0                    0                     0          10   \n",
       "1                    0                     0           4   \n",
       "2                    0                     0          11   \n",
       "3                    0                     0           7   \n",
       "4                    0                     0           8   \n",
       "\n",
       "                                  stim  istarget   stimname  response   rt  \\\n",
       "0    stimuli\\carousel\\carousel_11s.jpg         0   carousel       0.0  0.0   \n",
       "1          stimuli\\piano\\piano_05n.jpg         0      piano       0.0  0.0   \n",
       "2  stimuli\\turntable\\turntable_12s.jpg         0  turntable       0.0  0.0   \n",
       "3            stimuli\\tent\\tent_08n.jpg         0       tent       0.0  0.0   \n",
       "4        stimuli\\stove2\\stove2_09s.jpg         0      stove       0.0  0.0   \n",
       "\n",
       "   correct  time_stimon  time_stimoff   stimdur  \n",
       "0      0.0    61.552560     61.602540  0.049980  \n",
       "1      0.0    61.652560     61.702538  0.049977  \n",
       "2      0.0    61.752561     61.802545  0.049984  \n",
       "3      0.0    61.852564     61.902516  0.049951  \n",
       "4      0.0    61.952542     62.002516  0.049974  "
      ]
     },
     "execution_count": 50,
     "metadata": {},
     "output_type": "execute_result"
    }
   ],
   "source": [
    "# Preprocess the object names, remove numbers at the end of the string\n",
    "\n",
    "df1.object = df1.object.map(lambda x: x.rstrip(\"0123456789\"))\n",
    "df1.head()"
   ]
  },
  {
   "attachments": {},
   "cell_type": "markdown",
   "id": "a45d5cf8",
   "metadata": {},
   "source": [
    "Analysis\n",
    "--"
   ]
  },
  {
   "attachments": {},
   "cell_type": "markdown",
   "id": "6fd05084",
   "metadata": {},
   "source": [
    "Here is a variable you want to assign for the results: `eeg_spike_results`. It is an array of arrays with the count of the EEG spikes.\n",
    "\n",
    "Right now I only put 3 entries of 3 features, as an example."
   ]
  },
  {
   "cell_type": "code",
   "execution_count": 11,
   "id": "ef38d58a",
   "metadata": {},
   "outputs": [
    {
     "name": "stdout",
     "output_type": "stream",
     "text": [
      "[[150 150 150]\n",
      " [140 155 155]\n",
      " [155 155 140]]\n",
      "            Sum of power of spike threshold\n",
      "artificial                       148.333333\n",
      "natural                          153.333333\n",
      "food                             148.333333\n"
     ]
    },
    {
     "data": {
      "image/png": "[encoded data removed]",
      "text/plain": [
       "<Figure size 640x480 with 1 Axes>"
      ]
     },
     "metadata": {},
     "output_type": "display_data"
    }
   ],
   "source": [
    "eeg_categories = [\"artificial\", \"natural\", \"food\"]\n",
    "eeg_spike_results = np.array([[150, 150, 150], [140, 155, 155], [155, 155, 140]])\n",
    "eeg_spike_avg = []\n",
    "\n",
    "print(eeg_spike_results)\n",
    "\n",
    "# take the average of each column\n",
    "for i in range(len(eeg_spike_results)):\n",
    "    eeg_spike_avg.append(np.mean(eeg_spike_results[:, i]))\n",
    "\n",
    "eeg_df = pd.DataFrame(data = np.array(eeg_spike_avg).transpose(), index = eeg_categories, columns = [\"Sum of power of spike threshold\"])\n",
    "print(eeg_df)\n",
    "\n",
    "plot_results = sns.barplot(x = eeg_df.index, y = eeg_df[\"Sum of power of spike threshold\"])"
   ]
  },
  {
   "attachments": {},
   "cell_type": "markdown",
   "id": "d2f198cc",
   "metadata": {},
   "source": [
    "Analysis:\n",
    "\n",
    "We will use the 1 way ANOVA test to see if there is a significant difference between subjects so we know that it isn't just preference what makes people happy.\n",
    "\n",
    "Null Hypothesis: There is a significant difference between the means of the participants' scores that people have their given category invoke happy feelings.\n",
    "\n",
    "Alternative Hypothesis: There is no significant difference between the means of the participants' scores that people have their given category invoke happy feelings."
   ]
  },
  {
   "cell_type": "code",
   "execution_count": 9,
   "id": "915cb5d9",
   "metadata": {},
   "outputs": [
    {
     "name": "stdout",
     "output_type": "stream",
     "text": [
      "F_onewayResult(statistic=0.6000000000000001, pvalue=0.5787037037037035)\n"
     ]
    }
   ],
   "source": [
    "from scipy.stats import f_oneway\n",
    "\n",
    "# 1 way ANOVA test\n",
    "print(f_oneway(*eeg_spike_results.transpose().tolist()))"
   ]
  },
  {
   "attachments": {},
   "cell_type": "markdown",
   "id": "40e5aad2",
   "metadata": {},
   "source": [
    "Because the p-value is ________ than the alpha value of 0.05, we can..."
   ]
  }
 ],
 "metadata": {
  "kernelspec": {
   "display_name": "Python 3 (ipykernel)",
   "language": "python",
   "name": "python3"
  },
  "language_info": {
   "codemirror_mode": {
    "name": "ipython",
    "version": 3
   },
   "file_extension": ".py",
   "mimetype": "text/x-python",
   "name": "python",
   "nbconvert_exporter": "python",
   "pygments_lexer": "ipython3",
   "version": "3.8.16"
  }
 },
 "nbformat": 4,
 "nbformat_minor": 5
}
