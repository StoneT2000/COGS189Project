{
 "cells": [
  {
   "cell_type": "code",
   "execution_count": 48,
   "id": "9097dd39-fd1d-46f3-be8b-0f895da0b68c",
   "metadata": {},
   "outputs": [],
   "source": [
    "import numpy as np\n",
    "import matplotlib.pyplot as plt\n",
    "import scipy\n",
    "import h5py\n",
    "import pandas as pd\n",
    "import os.path as osp\n",
    "import json\n",
    "from scipy.io import loadmat\n",
    "import mne\n",
    "import seaborn as sns"
   ]
  },
  {
   "cell_type": "code",
   "execution_count": 49,
   "id": "dfc046e1",
   "metadata": {},
   "outputs": [],
   "source": [
    "# mat = scipy.io.loadmat(\"../data/derivatives/RDM/stats_RDM_full.mat\")\n",
    "ENV_PATH = \"../\"\n",
    "DATA_PATH = \"../data\"\n"
   ]
  },
  {
   "cell_type": "markdown",
   "id": "e8c9365d-6f1a-43b0-accb-e1b997e9889d",
   "metadata": {},
   "source": [
    "## Loading Data"
   ]
  },
  {
   "cell_type": "markdown",
   "id": "990de6a0-38cb-45a0-be65-3973210b02ec",
   "metadata": {},
   "source": [
    "Loading participant data"
   ]
  },
  {
   "cell_type": "code",
   "execution_count": 50,
   "id": "109fcffe-124e-42e8-a0fe-e5d038cc9b06",
   "metadata": {
    "tags": []
   },
   "outputs": [
    {
     "name": "stdout",
     "output_type": "stream",
     "text": [
      "(50, 8)\n"
     ]
    }
   ],
   "source": [
    "participants_data = pd.read_csv(osp.join(DATA_PATH, \"participants.tsv\"), sep=\"\\t\")\n",
    "participants_data.head()\n",
    "print(participants_data.shape)"
   ]
  },
  {
   "cell_type": "markdown",
   "id": "6494e9fd-4554-4e47-8b62-acdc019a3808",
   "metadata": {},
   "source": [
    "Understanding what each header means"
   ]
  },
  {
   "cell_type": "code",
   "execution_count": 51,
   "id": "3c1f9fd0-bfb7-4308-81f0-6ba3b621572c",
   "metadata": {
    "tags": []
   },
   "outputs": [
    {
     "data": {
      "text/plain": [
       "{'participant_id': {'Description': 'participant number'},\n",
       " 'age': {'Description': 'participant age in years at time of acquisition'},\n",
       " 'gender': {'Description': 'participant self-reported gender (M:Male, F:Female)'},\n",
       " 'native_english': {'Description': 'Whether the participant was a native English speaker'},\n",
       " 'language_profile': {'Description': 'Number of languages spoken'},\n",
       " 'language_spoken_at_home': {'Description': 'Language spoken at home'},\n",
       " 'exclude': {'Description': '1 for suggested exclusion of participant due to very poor signal or missing data'},\n",
       " 'note_IZ': {'Description': 'Experimenter notes'}}"
      ]
     },
     "execution_count": 51,
     "metadata": {},
     "output_type": "execute_result"
    }
   ],
   "source": [
    "with open(osp.join(DATA_PATH, \"participants.json\"), \"rb\") as f:\n",
    "    participants_data_meta = json.load(f)\n",
    "participants_data_meta"
   ]
  },
  {
   "cell_type": "markdown",
   "id": "d9dc65e5-89a2-4036-8b54-8537dea8a525",
   "metadata": {
    "tags": []
   },
   "source": [
    "Loading a single participants EEG data using the mne package"
   ]
  },
  {
   "cell_type": "code",
   "execution_count": 52,
   "id": "3f793141-8d58-4d54-9506-8717f0a86269",
   "metadata": {
    "tags": []
   },
   "outputs": [
    {
     "name": "stdout",
     "output_type": "stream",
     "text": [
      "Extracting parameters from ../data/sub-01/eeg/sub-01_task-rsvp_eeg.vhdr...\n",
      "Setting channel info structure...\n"
     ]
    },
    {
     "data": {
      "text/html": [
       "<table class=\"table table-hover table-striped table-sm table-responsive small\">\n",
       "    <tr>\n",
       "        <th>Measurement date</th>\n",
       "        \n",
       "        <td>February 22, 2019  14:39:19 GMT</td>\n",
       "        \n",
       "    </tr>\n",
       "    <tr>\n",
       "        <th>Experimenter</th>\n",
       "        \n",
       "        <td>Unknown</td>\n",
       "        \n",
       "    </tr>\n",
       "        <th>Participant</th>\n",
       "        \n",
       "        <td>Unknown</td>\n",
       "        \n",
       "    </tr>\n",
       "    <tr>\n",
       "        <th>Digitized points</th>\n",
       "        \n",
       "        <td>66 points</td>\n",
       "        \n",
       "    </tr>\n",
       "    <tr>\n",
       "        <th>Good channels</th>\n",
       "        <td>63 EEG</td>\n",
       "    </tr>\n",
       "    <tr>\n",
       "        <th>Bad channels</th>\n",
       "        <td>None</td>\n",
       "    </tr>\n",
       "    <tr>\n",
       "        <th>EOG channels</th>\n",
       "        <td>Not available</td>\n",
       "    </tr>\n",
       "    <tr>\n",
       "        <th>ECG channels</th>\n",
       "        <td>Not available</td>\n",
       "    \n",
       "    <tr>\n",
       "        <th>Sampling frequency</th>\n",
       "        <td>1000.00 Hz</td>\n",
       "    </tr>\n",
       "    \n",
       "    \n",
       "    <tr>\n",
       "        <th>Highpass</th>\n",
       "        <td>0.00 Hz</td>\n",
       "    </tr>\n",
       "    \n",
       "    \n",
       "    <tr>\n",
       "        <th>Lowpass</th>\n",
       "        <td>280.00 Hz</td>\n",
       "    </tr>\n",
       "    \n",
       "    \n",
       "    \n",
       "    <tr>\n",
       "        <th>Filenames</th>\n",
       "        <td>sub-01_task-rsvp_eeg.eeg</td>\n",
       "    </tr>\n",
       "    \n",
       "    <tr>\n",
       "        <th>Duration</th>\n",
       "        <td>00:50:36 (HH:MM:SS)</td>\n",
       "    </tr>\n",
       "</table>"
      ],
      "text/plain": [
       "<RawBrainVision | sub-01_task-rsvp_eeg.eeg, 63 x 3035740 (3035.7 s), ~93 kB, data not loaded>"
      ]
     },
     "execution_count": 52,
     "metadata": {},
     "output_type": "execute_result"
    }
   ],
   "source": [
    "bv = mne.io.read_raw_brainvision(\"../data/sub-01/eeg/sub-01_task-rsvp_eeg.vhdr\")\n",
    "bv"
   ]
  },
  {
   "cell_type": "code",
   "execution_count": 53,
   "id": "86f7aa27-308f-40c5-a887-9dc1296708c7",
   "metadata": {
    "tags": []
   },
   "outputs": [],
   "source": [
    "# extract some useful values\n",
    "times = bv.times # time values of each sample\n",
    "N = bv.n_times # sample count\n",
    "channel_types = bv.get_channel_types()"
   ]
  },
  {
   "cell_type": "code",
   "execution_count": 54,
   "id": "ab59d4fb-9fae-447e-903d-5ccdc0d0d18a",
   "metadata": {
    "tags": []
   },
   "outputs": [
    {
     "data": {
      "text/plain": [
       "(63, 3035740)"
      ]
     },
     "execution_count": 54,
     "metadata": {},
     "output_type": "execute_result"
    }
   ],
   "source": [
    "data = bv.get_data()\n",
    "data.shape"
   ]
  },
  {
   "cell_type": "code",
   "execution_count": 55,
   "id": "1e42bc00-05a1-4413-b568-68861793a93b",
   "metadata": {
    "tags": []
   },
   "outputs": [
    {
     "data": {
      "text/plain": [
       "<matplotlib.patches.Polygon at 0x1f9db9fd970>"
      ]
     },
     "execution_count": 55,
     "metadata": {},
     "output_type": "execute_result"
    },
    {
     "data": {
      "image/png": "[encoded data removed]",
      "text/plain": [
       "<Figure size 640x480 with 1 Axes>"
      ]
     },
     "metadata": {},
     "output_type": "display_data"
    }
   ],
   "source": [
    "ax = plt.plot(data[0][:50000])\n",
    "# Zoom in\n",
    "plt.axvspan(10000, 11000, facecolor='red', alpha=.2)"
   ]
  },
  {
   "cell_type": "code",
   "execution_count": 56,
   "id": "d28c109f",
   "metadata": {},
   "outputs": [
    {
     "data": {
      "text/plain": [
       "[<matplotlib.lines.Line2D at 0x1f9dd48f700>]"
      ]
     },
     "execution_count": 56,
     "metadata": {},
     "output_type": "execute_result"
    },
    {
     "data": {
      "image/png": "[encoded data removed]",
      "text/plain": [
       "<Figure size 640x480 with 1 Axes>"
      ]
     },
     "metadata": {},
     "output_type": "display_data"
    }
   ],
   "source": [
    "plt.plot(data[0][10000:11000])"
   ]
  },
  {
   "cell_type": "code",
   "execution_count": 57,
   "id": "8be559d6",
   "metadata": {
    "tags": []
   },
   "outputs": [
    {
     "name": "stdout",
     "output_type": "stream",
     "text": [
      "Effective window size : 0.256 (s)\n"
     ]
    },
    {
     "data": {
      "text/plain": [
       "(63, 129)"
      ]
     },
     "execution_count": 57,
     "metadata": {},
     "output_type": "execute_result"
    }
   ],
   "source": [
    "welch_psd = bv.compute_psd()\n",
    "welch_psd.shape"
   ]
  },
  {
   "attachments": {},
   "cell_type": "markdown",
   "id": "eb7bcede",
   "metadata": {},
   "source": [
    "EDA for subject 1\n",
    "--"
   ]
  },
  {
   "cell_type": "code",
   "execution_count": 58,
   "id": "3ec6a6e0",
   "metadata": {},
   "outputs": [
    {
     "data": {
      "text/html": [
       "<div>\n",
       "<style scoped>\n",
       "    .dataframe tbody tr th:only-of-type {\n",
       "        vertical-align: middle;\n",
       "    }\n",
       "\n",
       "    .dataframe tbody tr th {\n",
       "        vertical-align: top;\n",
       "    }\n",
       "\n",
       "    .dataframe thead th {\n",
       "        text-align: right;\n",
       "    }\n",
       "</style>\n",
       "<table border=\"1\" class=\"dataframe\">\n",
       "  <thead>\n",
       "    <tr style=\"text-align: right;\">\n",
       "      <th></th>\n",
       "      <th>eventnumber</th>\n",
       "      <th>objectnumber</th>\n",
       "      <th>object</th>\n",
       "      <th>sequencenumber</th>\n",
       "      <th>presentationnumber</th>\n",
       "      <th>blocksequencenumber</th>\n",
       "      <th>withinsequencenumber</th>\n",
       "      <th>stimnumber</th>\n",
       "      <th>stim</th>\n",
       "      <th>istarget</th>\n",
       "      <th>stimname</th>\n",
       "      <th>response</th>\n",
       "      <th>rt</th>\n",
       "      <th>correct</th>\n",
       "      <th>time_stimon</th>\n",
       "      <th>time_stimoff</th>\n",
       "      <th>stimdur</th>\n",
       "    </tr>\n",
       "  </thead>\n",
       "  <tbody>\n",
       "    <tr>\n",
       "      <th>0</th>\n",
       "      <td>0</td>\n",
       "      <td>275</td>\n",
       "      <td>carousel</td>\n",
       "      <td>0</td>\n",
       "      <td>0</td>\n",
       "      <td>0</td>\n",
       "      <td>0</td>\n",
       "      <td>10</td>\n",
       "      <td>stimuli\\carousel\\carousel_11s.jpg</td>\n",
       "      <td>0</td>\n",
       "      <td>carousel_11s.jpg</td>\n",
       "      <td>0.0</td>\n",
       "      <td>0.0</td>\n",
       "      <td>0.0</td>\n",
       "      <td>61.552560</td>\n",
       "      <td>61.602540</td>\n",
       "      <td>0.049980</td>\n",
       "    </tr>\n",
       "    <tr>\n",
       "      <th>1</th>\n",
       "      <td>1</td>\n",
       "      <td>1165</td>\n",
       "      <td>piano</td>\n",
       "      <td>0</td>\n",
       "      <td>1</td>\n",
       "      <td>0</td>\n",
       "      <td>0</td>\n",
       "      <td>4</td>\n",
       "      <td>stimuli\\piano\\piano_05n.jpg</td>\n",
       "      <td>0</td>\n",
       "      <td>piano_05n.jpg</td>\n",
       "      <td>0.0</td>\n",
       "      <td>0.0</td>\n",
       "      <td>0.0</td>\n",
       "      <td>61.652560</td>\n",
       "      <td>61.702538</td>\n",
       "      <td>0.049977</td>\n",
       "    </tr>\n",
       "    <tr>\n",
       "      <th>2</th>\n",
       "      <td>2</td>\n",
       "      <td>1735</td>\n",
       "      <td>turntable</td>\n",
       "      <td>0</td>\n",
       "      <td>2</td>\n",
       "      <td>0</td>\n",
       "      <td>0</td>\n",
       "      <td>11</td>\n",
       "      <td>stimuli\\turntable\\turntable_12s.jpg</td>\n",
       "      <td>0</td>\n",
       "      <td>turntable_12s.jpg</td>\n",
       "      <td>0.0</td>\n",
       "      <td>0.0</td>\n",
       "      <td>0.0</td>\n",
       "      <td>61.752561</td>\n",
       "      <td>61.802545</td>\n",
       "      <td>0.049984</td>\n",
       "    </tr>\n",
       "    <tr>\n",
       "      <th>3</th>\n",
       "      <td>3</td>\n",
       "      <td>1643</td>\n",
       "      <td>tent</td>\n",
       "      <td>0</td>\n",
       "      <td>3</td>\n",
       "      <td>0</td>\n",
       "      <td>0</td>\n",
       "      <td>7</td>\n",
       "      <td>stimuli\\tent\\tent_08n.jpg</td>\n",
       "      <td>0</td>\n",
       "      <td>tent_08n.jpg</td>\n",
       "      <td>0.0</td>\n",
       "      <td>0.0</td>\n",
       "      <td>0.0</td>\n",
       "      <td>61.852564</td>\n",
       "      <td>61.902516</td>\n",
       "      <td>0.049951</td>\n",
       "    </tr>\n",
       "    <tr>\n",
       "      <th>4</th>\n",
       "      <td>4</td>\n",
       "      <td>1564</td>\n",
       "      <td>stove2</td>\n",
       "      <td>0</td>\n",
       "      <td>4</td>\n",
       "      <td>0</td>\n",
       "      <td>0</td>\n",
       "      <td>8</td>\n",
       "      <td>stimuli\\stove2\\stove2_09s.jpg</td>\n",
       "      <td>0</td>\n",
       "      <td>stove2_09s.jpg</td>\n",
       "      <td>0.0</td>\n",
       "      <td>0.0</td>\n",
       "      <td>0.0</td>\n",
       "      <td>61.952542</td>\n",
       "      <td>62.002516</td>\n",
       "      <td>0.049974</td>\n",
       "    </tr>\n",
       "  </tbody>\n",
       "</table>\n",
       "</div>"
      ],
      "text/plain": [
       "   eventnumber  objectnumber     object  sequencenumber  presentationnumber  \\\n",
       "0            0           275   carousel               0                   0   \n",
       "1            1          1165      piano               0                   1   \n",
       "2            2          1735  turntable               0                   2   \n",
       "3            3          1643       tent               0                   3   \n",
       "4            4          1564     stove2               0                   4   \n",
       "\n",
       "   blocksequencenumber  withinsequencenumber  stimnumber  \\\n",
       "0                    0                     0          10   \n",
       "1                    0                     0           4   \n",
       "2                    0                     0          11   \n",
       "3                    0                     0           7   \n",
       "4                    0                     0           8   \n",
       "\n",
       "                                  stim  istarget           stimname  response  \\\n",
       "0    stimuli\\carousel\\carousel_11s.jpg         0   carousel_11s.jpg       0.0   \n",
       "1          stimuli\\piano\\piano_05n.jpg         0      piano_05n.jpg       0.0   \n",
       "2  stimuli\\turntable\\turntable_12s.jpg         0  turntable_12s.jpg       0.0   \n",
       "3            stimuli\\tent\\tent_08n.jpg         0       tent_08n.jpg       0.0   \n",
       "4        stimuli\\stove2\\stove2_09s.jpg         0     stove2_09s.jpg       0.0   \n",
       "\n",
       "    rt  correct  time_stimon  time_stimoff   stimdur  \n",
       "0  0.0      0.0    61.552560     61.602540  0.049980  \n",
       "1  0.0      0.0    61.652560     61.702538  0.049977  \n",
       "2  0.0      0.0    61.752561     61.802545  0.049984  \n",
       "3  0.0      0.0    61.852564     61.902516  0.049951  \n",
       "4  0.0      0.0    61.952542     62.002516  0.049974  "
      ]
     },
     "execution_count": 58,
     "metadata": {},
     "output_type": "execute_result"
    }
   ],
   "source": [
    "df1 = pd.read_csv(osp.join(DATA_PATH, \"sub-01/eeg/sub-01_task-rsvp_events.csv\"))\n",
    "df1.head()"
   ]
  },
  {
   "cell_type": "code",
   "execution_count": 59,
   "id": "db590a31",
   "metadata": {},
   "outputs": [
    {
     "data": {
      "text/html": [
       "<div>\n",
       "<style scoped>\n",
       "    .dataframe tbody tr th:only-of-type {\n",
       "        vertical-align: middle;\n",
       "    }\n",
       "\n",
       "    .dataframe tbody tr th {\n",
       "        vertical-align: top;\n",
       "    }\n",
       "\n",
       "    .dataframe thead th {\n",
       "        text-align: right;\n",
       "    }\n",
       "</style>\n",
       "<table border=\"1\" class=\"dataframe\">\n",
       "  <thead>\n",
       "    <tr style=\"text-align: right;\">\n",
       "      <th></th>\n",
       "      <th>time_stimoff</th>\n",
       "      <th>time_stimon</th>\n",
       "      <th>stimdur</th>\n",
       "    </tr>\n",
       "  </thead>\n",
       "  <tbody>\n",
       "    <tr>\n",
       "      <th>count</th>\n",
       "      <td>22248.000000</td>\n",
       "      <td>22248.000000</td>\n",
       "      <td>22248.000000</td>\n",
       "    </tr>\n",
       "    <tr>\n",
       "      <th>mean</th>\n",
       "      <td>1553.889417</td>\n",
       "      <td>1553.839433</td>\n",
       "      <td>0.049984</td>\n",
       "    </tr>\n",
       "    <tr>\n",
       "      <th>std</th>\n",
       "      <td>897.850962</td>\n",
       "      <td>897.850966</td>\n",
       "      <td>0.000276</td>\n",
       "    </tr>\n",
       "    <tr>\n",
       "      <th>min</th>\n",
       "      <td>61.602540</td>\n",
       "      <td>61.552560</td>\n",
       "      <td>0.047609</td>\n",
       "    </tr>\n",
       "    <tr>\n",
       "      <th>25%</th>\n",
       "      <td>756.204358</td>\n",
       "      <td>756.154372</td>\n",
       "      <td>0.049976</td>\n",
       "    </tr>\n",
       "    <tr>\n",
       "      <th>50%</th>\n",
       "      <td>1520.591367</td>\n",
       "      <td>1520.541387</td>\n",
       "      <td>0.049980</td>\n",
       "    </tr>\n",
       "    <tr>\n",
       "      <th>75%</th>\n",
       "      <td>2357.138630</td>\n",
       "      <td>2357.088649</td>\n",
       "      <td>0.049985</td>\n",
       "    </tr>\n",
       "    <tr>\n",
       "      <th>max</th>\n",
       "      <td>3074.016016</td>\n",
       "      <td>3073.966039</td>\n",
       "      <td>0.083347</td>\n",
       "    </tr>\n",
       "  </tbody>\n",
       "</table>\n",
       "</div>"
      ],
      "text/plain": [
       "       time_stimoff   time_stimon       stimdur\n",
       "count  22248.000000  22248.000000  22248.000000\n",
       "mean    1553.889417   1553.839433      0.049984\n",
       "std      897.850962    897.850966      0.000276\n",
       "min       61.602540     61.552560      0.047609\n",
       "25%      756.204358    756.154372      0.049976\n",
       "50%     1520.591367   1520.541387      0.049980\n",
       "75%     2357.138630   2357.088649      0.049985\n",
       "max     3074.016016   3073.966039      0.083347"
      ]
     },
     "execution_count": 59,
     "metadata": {},
     "output_type": "execute_result"
    }
   ],
   "source": [
    "df1[['time_stimoff', 'time_stimon', 'stimdur']].describe()"
   ]
  },
  {
   "cell_type": "code",
   "execution_count": 85,
   "id": "3896dd64",
   "metadata": {},
   "outputs": [
    {
     "data": {
      "text/html": [
       "<div>\n",
       "<style scoped>\n",
       "    .dataframe tbody tr th:only-of-type {\n",
       "        vertical-align: middle;\n",
       "    }\n",
       "\n",
       "    .dataframe tbody tr th {\n",
       "        vertical-align: top;\n",
       "    }\n",
       "\n",
       "    .dataframe thead th {\n",
       "        text-align: right;\n",
       "    }\n",
       "</style>\n",
       "<table border=\"1\" class=\"dataframe\">\n",
       "  <thead>\n",
       "    <tr style=\"text-align: right;\">\n",
       "      <th></th>\n",
       "      <th>eventnumber</th>\n",
       "      <th>objectnumber</th>\n",
       "      <th>object</th>\n",
       "      <th>sequencenumber</th>\n",
       "      <th>presentationnumber</th>\n",
       "      <th>blocksequencenumber</th>\n",
       "      <th>withinsequencenumber</th>\n",
       "      <th>stimnumber</th>\n",
       "      <th>stim</th>\n",
       "      <th>istarget</th>\n",
       "      <th>stimname</th>\n",
       "      <th>response</th>\n",
       "      <th>rt</th>\n",
       "      <th>correct</th>\n",
       "      <th>time_stimon</th>\n",
       "      <th>time_stimoff</th>\n",
       "      <th>stimdur</th>\n",
       "    </tr>\n",
       "  </thead>\n",
       "  <tbody>\n",
       "    <tr>\n",
       "      <th>0</th>\n",
       "      <td>0</td>\n",
       "      <td>275</td>\n",
       "      <td>carousel</td>\n",
       "      <td>0</td>\n",
       "      <td>0</td>\n",
       "      <td>0</td>\n",
       "      <td>0</td>\n",
       "      <td>10</td>\n",
       "      <td>stimuli\\carousel\\carousel_11s.jpg</td>\n",
       "      <td>0</td>\n",
       "      <td>carousel_11s.jpg</td>\n",
       "      <td>0.0</td>\n",
       "      <td>0.0</td>\n",
       "      <td>0.0</td>\n",
       "      <td>61.552560</td>\n",
       "      <td>61.602540</td>\n",
       "      <td>0.049980</td>\n",
       "    </tr>\n",
       "    <tr>\n",
       "      <th>1</th>\n",
       "      <td>1</td>\n",
       "      <td>1165</td>\n",
       "      <td>piano</td>\n",
       "      <td>0</td>\n",
       "      <td>1</td>\n",
       "      <td>0</td>\n",
       "      <td>0</td>\n",
       "      <td>4</td>\n",
       "      <td>stimuli\\piano\\piano_05n.jpg</td>\n",
       "      <td>0</td>\n",
       "      <td>piano_05n.jpg</td>\n",
       "      <td>0.0</td>\n",
       "      <td>0.0</td>\n",
       "      <td>0.0</td>\n",
       "      <td>61.652560</td>\n",
       "      <td>61.702538</td>\n",
       "      <td>0.049977</td>\n",
       "    </tr>\n",
       "    <tr>\n",
       "      <th>2</th>\n",
       "      <td>2</td>\n",
       "      <td>1735</td>\n",
       "      <td>turntable</td>\n",
       "      <td>0</td>\n",
       "      <td>2</td>\n",
       "      <td>0</td>\n",
       "      <td>0</td>\n",
       "      <td>11</td>\n",
       "      <td>stimuli\\turntable\\turntable_12s.jpg</td>\n",
       "      <td>0</td>\n",
       "      <td>turntable_12s.jpg</td>\n",
       "      <td>0.0</td>\n",
       "      <td>0.0</td>\n",
       "      <td>0.0</td>\n",
       "      <td>61.752561</td>\n",
       "      <td>61.802545</td>\n",
       "      <td>0.049984</td>\n",
       "    </tr>\n",
       "    <tr>\n",
       "      <th>3</th>\n",
       "      <td>3</td>\n",
       "      <td>1643</td>\n",
       "      <td>tent</td>\n",
       "      <td>0</td>\n",
       "      <td>3</td>\n",
       "      <td>0</td>\n",
       "      <td>0</td>\n",
       "      <td>7</td>\n",
       "      <td>stimuli\\tent\\tent_08n.jpg</td>\n",
       "      <td>0</td>\n",
       "      <td>tent_08n.jpg</td>\n",
       "      <td>0.0</td>\n",
       "      <td>0.0</td>\n",
       "      <td>0.0</td>\n",
       "      <td>61.852564</td>\n",
       "      <td>61.902516</td>\n",
       "      <td>0.049951</td>\n",
       "    </tr>\n",
       "    <tr>\n",
       "      <th>4</th>\n",
       "      <td>4</td>\n",
       "      <td>1564</td>\n",
       "      <td>stove</td>\n",
       "      <td>0</td>\n",
       "      <td>4</td>\n",
       "      <td>0</td>\n",
       "      <td>0</td>\n",
       "      <td>8</td>\n",
       "      <td>stimuli\\stove2\\stove2_09s.jpg</td>\n",
       "      <td>0</td>\n",
       "      <td>stove2_09s.jpg</td>\n",
       "      <td>0.0</td>\n",
       "      <td>0.0</td>\n",
       "      <td>0.0</td>\n",
       "      <td>61.952542</td>\n",
       "      <td>62.002516</td>\n",
       "      <td>0.049974</td>\n",
       "    </tr>\n",
       "  </tbody>\n",
       "</table>\n",
       "</div>"
      ],
      "text/plain": [
       "   eventnumber  objectnumber     object  sequencenumber  presentationnumber  \\\n",
       "0            0           275   carousel               0                   0   \n",
       "1            1          1165      piano               0                   1   \n",
       "2            2          1735  turntable               0                   2   \n",
       "3            3          1643       tent               0                   3   \n",
       "4            4          1564      stove               0                   4   \n",
       "\n",
       "   blocksequencenumber  withinsequencenumber  stimnumber  \\\n",
       "0                    0                     0          10   \n",
       "1                    0                     0           4   \n",
       "2                    0                     0          11   \n",
       "3                    0                     0           7   \n",
       "4                    0                     0           8   \n",
       "\n",
       "                                  stim  istarget           stimname  response  \\\n",
       "0    stimuli\\carousel\\carousel_11s.jpg         0   carousel_11s.jpg       0.0   \n",
       "1          stimuli\\piano\\piano_05n.jpg         0      piano_05n.jpg       0.0   \n",
       "2  stimuli\\turntable\\turntable_12s.jpg         0  turntable_12s.jpg       0.0   \n",
       "3            stimuli\\tent\\tent_08n.jpg         0       tent_08n.jpg       0.0   \n",
       "4        stimuli\\stove2\\stove2_09s.jpg         0     stove2_09s.jpg       0.0   \n",
       "\n",
       "    rt  correct  time_stimon  time_stimoff   stimdur  \n",
       "0  0.0      0.0    61.552560     61.602540  0.049980  \n",
       "1  0.0      0.0    61.652560     61.702538  0.049977  \n",
       "2  0.0      0.0    61.752561     61.802545  0.049984  \n",
       "3  0.0      0.0    61.852564     61.902516  0.049951  \n",
       "4  0.0      0.0    61.952542     62.002516  0.049974  "
      ]
     },
     "execution_count": 85,
     "metadata": {},
     "output_type": "execute_result"
    }
   ],
   "source": [
    "# Preprocess the object names, remove numbers at the end of the string\n",
    "\n",
    "df1.object = df1.object.map(lambda x: x.rstrip(\"0123456789\").replace(\"_\", \" \"))\n",
    "df1.head()"
   ]
  },
  {
   "cell_type": "code",
   "execution_count": 86,
   "id": "a31f552d",
   "metadata": {},
   "outputs": [
    {
     "name": "stderr",
     "output_type": "stream",
     "text": [
      "C:\\Users\\whati\\AppData\\Local\\Temp\\ipykernel_20276\\2845761890.py:1: ParserWarning: Falling back to the 'python' engine because the 'c' engine does not support regex separators (separators > 1 char and different from '\\s+' are interpreted as regex); you can avoid this warning by specifying engine='python'.\n",
      "  things_df = pd.read_csv(osp.join(ENV_PATH, \"things_clustering.csv\") , sep=\", \")\n"
     ]
    },
    {
     "data": {
      "text/html": [
       "<div>\n",
       "<style scoped>\n",
       "    .dataframe tbody tr th:only-of-type {\n",
       "        vertical-align: middle;\n",
       "    }\n",
       "\n",
       "    .dataframe tbody tr th {\n",
       "        vertical-align: top;\n",
       "    }\n",
       "\n",
       "    .dataframe thead th {\n",
       "        text-align: right;\n",
       "    }\n",
       "</style>\n",
       "<table border=\"1\" class=\"dataframe\">\n",
       "  <thead>\n",
       "    <tr style=\"text-align: right;\">\n",
       "      <th></th>\n",
       "      <th>object</th>\n",
       "      <th>category</th>\n",
       "    </tr>\n",
       "  </thead>\n",
       "  <tbody>\n",
       "    <tr>\n",
       "      <th>0</th>\n",
       "      <td>aardvark</td>\n",
       "      <td>Natural</td>\n",
       "    </tr>\n",
       "    <tr>\n",
       "      <th>1</th>\n",
       "      <td>abacus</td>\n",
       "      <td>Artificial</td>\n",
       "    </tr>\n",
       "    <tr>\n",
       "      <th>2</th>\n",
       "      <td>accordion</td>\n",
       "      <td>Artificial</td>\n",
       "    </tr>\n",
       "    <tr>\n",
       "      <th>3</th>\n",
       "      <td>acorn</td>\n",
       "      <td>Natural</td>\n",
       "    </tr>\n",
       "    <tr>\n",
       "      <th>4</th>\n",
       "      <td>air conditioner</td>\n",
       "      <td>Artificial</td>\n",
       "    </tr>\n",
       "  </tbody>\n",
       "</table>\n",
       "</div>"
      ],
      "text/plain": [
       "            object    category\n",
       "0         aardvark     Natural\n",
       "1           abacus  Artificial\n",
       "2        accordion  Artificial\n",
       "3            acorn     Natural\n",
       "4  air conditioner  Artificial"
      ]
     },
     "execution_count": 86,
     "metadata": {},
     "output_type": "execute_result"
    }
   ],
   "source": [
    "things_df = pd.read_csv(osp.join(ENV_PATH, \"things_clustering.csv\") , sep=\", \")\n",
    "things_df.head()"
   ]
  },
  {
   "cell_type": "code",
   "execution_count": 87,
   "id": "adf12b56",
   "metadata": {},
   "outputs": [
    {
     "data": {
      "text/html": [
       "<div>\n",
       "<style scoped>\n",
       "    .dataframe tbody tr th:only-of-type {\n",
       "        vertical-align: middle;\n",
       "    }\n",
       "\n",
       "    .dataframe tbody tr th {\n",
       "        vertical-align: top;\n",
       "    }\n",
       "\n",
       "    .dataframe thead th {\n",
       "        text-align: right;\n",
       "    }\n",
       "</style>\n",
       "<table border=\"1\" class=\"dataframe\">\n",
       "  <thead>\n",
       "    <tr style=\"text-align: right;\">\n",
       "      <th></th>\n",
       "      <th>eventnumber</th>\n",
       "      <th>objectnumber</th>\n",
       "      <th>object</th>\n",
       "      <th>sequencenumber</th>\n",
       "      <th>presentationnumber</th>\n",
       "      <th>blocksequencenumber</th>\n",
       "      <th>withinsequencenumber</th>\n",
       "      <th>stimnumber</th>\n",
       "      <th>stim</th>\n",
       "      <th>istarget</th>\n",
       "      <th>stimname</th>\n",
       "      <th>response</th>\n",
       "      <th>rt</th>\n",
       "      <th>correct</th>\n",
       "      <th>time_stimon</th>\n",
       "      <th>time_stimoff</th>\n",
       "      <th>stimdur</th>\n",
       "      <th>category</th>\n",
       "    </tr>\n",
       "  </thead>\n",
       "  <tbody>\n",
       "    <tr>\n",
       "      <th>0</th>\n",
       "      <td>0</td>\n",
       "      <td>275</td>\n",
       "      <td>carousel</td>\n",
       "      <td>0</td>\n",
       "      <td>0</td>\n",
       "      <td>0</td>\n",
       "      <td>0</td>\n",
       "      <td>10</td>\n",
       "      <td>stimuli\\carousel\\carousel_11s.jpg</td>\n",
       "      <td>0</td>\n",
       "      <td>carousel_11s.jpg</td>\n",
       "      <td>0.0</td>\n",
       "      <td>0.0</td>\n",
       "      <td>0.0</td>\n",
       "      <td>61.552560</td>\n",
       "      <td>61.602540</td>\n",
       "      <td>0.049980</td>\n",
       "      <td>Artificial</td>\n",
       "    </tr>\n",
       "    <tr>\n",
       "      <th>1</th>\n",
       "      <td>1</td>\n",
       "      <td>1165</td>\n",
       "      <td>piano</td>\n",
       "      <td>0</td>\n",
       "      <td>1</td>\n",
       "      <td>0</td>\n",
       "      <td>0</td>\n",
       "      <td>4</td>\n",
       "      <td>stimuli\\piano\\piano_05n.jpg</td>\n",
       "      <td>0</td>\n",
       "      <td>piano_05n.jpg</td>\n",
       "      <td>0.0</td>\n",
       "      <td>0.0</td>\n",
       "      <td>0.0</td>\n",
       "      <td>61.652560</td>\n",
       "      <td>61.702538</td>\n",
       "      <td>0.049977</td>\n",
       "      <td>Artificial</td>\n",
       "    </tr>\n",
       "    <tr>\n",
       "      <th>2</th>\n",
       "      <td>2</td>\n",
       "      <td>1735</td>\n",
       "      <td>turntable</td>\n",
       "      <td>0</td>\n",
       "      <td>2</td>\n",
       "      <td>0</td>\n",
       "      <td>0</td>\n",
       "      <td>11</td>\n",
       "      <td>stimuli\\turntable\\turntable_12s.jpg</td>\n",
       "      <td>0</td>\n",
       "      <td>turntable_12s.jpg</td>\n",
       "      <td>0.0</td>\n",
       "      <td>0.0</td>\n",
       "      <td>0.0</td>\n",
       "      <td>61.752561</td>\n",
       "      <td>61.802545</td>\n",
       "      <td>0.049984</td>\n",
       "      <td>Artificial</td>\n",
       "    </tr>\n",
       "    <tr>\n",
       "      <th>3</th>\n",
       "      <td>3</td>\n",
       "      <td>1643</td>\n",
       "      <td>tent</td>\n",
       "      <td>0</td>\n",
       "      <td>3</td>\n",
       "      <td>0</td>\n",
       "      <td>0</td>\n",
       "      <td>7</td>\n",
       "      <td>stimuli\\tent\\tent_08n.jpg</td>\n",
       "      <td>0</td>\n",
       "      <td>tent_08n.jpg</td>\n",
       "      <td>0.0</td>\n",
       "      <td>0.0</td>\n",
       "      <td>0.0</td>\n",
       "      <td>61.852564</td>\n",
       "      <td>61.902516</td>\n",
       "      <td>0.049951</td>\n",
       "      <td>Natural</td>\n",
       "    </tr>\n",
       "    <tr>\n",
       "      <th>4</th>\n",
       "      <td>4</td>\n",
       "      <td>1564</td>\n",
       "      <td>stove</td>\n",
       "      <td>0</td>\n",
       "      <td>4</td>\n",
       "      <td>0</td>\n",
       "      <td>0</td>\n",
       "      <td>8</td>\n",
       "      <td>stimuli\\stove2\\stove2_09s.jpg</td>\n",
       "      <td>0</td>\n",
       "      <td>stove2_09s.jpg</td>\n",
       "      <td>0.0</td>\n",
       "      <td>0.0</td>\n",
       "      <td>0.0</td>\n",
       "      <td>61.952542</td>\n",
       "      <td>62.002516</td>\n",
       "      <td>0.049974</td>\n",
       "      <td>Artificial</td>\n",
       "    </tr>\n",
       "  </tbody>\n",
       "</table>\n",
       "</div>"
      ],
      "text/plain": [
       "   eventnumber  objectnumber     object  sequencenumber  presentationnumber  \\\n",
       "0            0           275   carousel               0                   0   \n",
       "1            1          1165      piano               0                   1   \n",
       "2            2          1735  turntable               0                   2   \n",
       "3            3          1643       tent               0                   3   \n",
       "4            4          1564      stove               0                   4   \n",
       "\n",
       "   blocksequencenumber  withinsequencenumber  stimnumber  \\\n",
       "0                    0                     0          10   \n",
       "1                    0                     0           4   \n",
       "2                    0                     0          11   \n",
       "3                    0                     0           7   \n",
       "4                    0                     0           8   \n",
       "\n",
       "                                  stim  istarget           stimname  response  \\\n",
       "0    stimuli\\carousel\\carousel_11s.jpg         0   carousel_11s.jpg       0.0   \n",
       "1          stimuli\\piano\\piano_05n.jpg         0      piano_05n.jpg       0.0   \n",
       "2  stimuli\\turntable\\turntable_12s.jpg         0  turntable_12s.jpg       0.0   \n",
       "3            stimuli\\tent\\tent_08n.jpg         0       tent_08n.jpg       0.0   \n",
       "4        stimuli\\stove2\\stove2_09s.jpg         0     stove2_09s.jpg       0.0   \n",
       "\n",
       "    rt  correct  time_stimon  time_stimoff   stimdur    category  \n",
       "0  0.0      0.0    61.552560     61.602540  0.049980  Artificial  \n",
       "1  0.0      0.0    61.652560     61.702538  0.049977  Artificial  \n",
       "2  0.0      0.0    61.752561     61.802545  0.049984  Artificial  \n",
       "3  0.0      0.0    61.852564     61.902516  0.049951     Natural  \n",
       "4  0.0      0.0    61.952542     62.002516  0.049974  Artificial  "
      ]
     },
     "execution_count": 87,
     "metadata": {},
     "output_type": "execute_result"
    }
   ],
   "source": [
    "\n",
    "# from things_df add the category onto each row of df1 based on the row's object value\n",
    "df1_cat = df1.merge(things_df, on=\"object\", how=\"left\")\n",
    "df1_cat.head()"
   ]
  },
  {
   "cell_type": "code",
   "execution_count": 91,
   "id": "68765df9",
   "metadata": {},
   "outputs": [
    {
     "name": "stdout",
     "output_type": "stream",
     "text": [
      "             object    category\n",
      "0          carousel  Artificial\n",
      "1             piano  Artificial\n",
      "2         turntable  Artificial\n",
      "3              tent     Natural\n",
      "4             stove  Artificial\n",
      "5             stove  Artificial\n",
      "6          birdbath  Artificial\n",
      "7              drum  Artificial\n",
      "8              calf     Natural\n",
      "9              calf     Natural\n",
      "10             mole     Natural\n",
      "11          stirrup     Natural\n",
      "12          lettuce     Natural\n",
      "13          manhole  Artificial\n",
      "14             rose     Natural\n",
      "15        highchair  Artificial\n",
      "16            taffy  Artificial\n",
      "17          cracker  Artificial\n",
      "18           branch     Natural\n",
      "19       microscope  Artificial\n",
      "20     balance beam  Artificial\n",
      "21     wire cutters  Artificial\n",
      "22         tricycle  Artificial\n",
      "23            horse     Natural\n",
      "24           ladder  Artificial\n",
      "25            prune     Natural\n",
      "26            stool  Artificial\n",
      "27      streetlight  Artificial\n",
      "28  air conditioner  Artificial\n",
      "29         shoehorn  Artificial\n"
     ]
    }
   ],
   "source": [
    "print(df1_cat[[\"object\", \"category\"]][:30])"
   ]
  },
  {
   "cell_type": "code",
   "execution_count": 106,
   "id": "265da367",
   "metadata": {},
   "outputs": [
    {
     "name": "stdout",
     "output_type": "stream",
     "text": [
      "# Objects that don't have a category: (144, 18)\n",
      "       object category\n",
      "203  bracelet      NaN\n",
      "414     baton      NaN\n",
      "505  bracelet      NaN\n",
      "630       bow      NaN\n",
      "785     baton      NaN\n",
      "Categories:\n",
      "\n",
      " ['Artificial' 'Natural'] \n",
      "\n",
      "Artificial    14880\n",
      "Natural        7824\n",
      "Name: category, dtype: int64\n"
     ]
    },
    {
     "data": {
      "image/png": "[encoded data removed]",
      "text/plain": [
       "<Figure size 640x480 with 1 Axes>"
      ]
     },
     "metadata": {},
     "output_type": "display_data"
    }
   ],
   "source": [
    "# Get the rows whose category is NaN\n",
    "catna = df1_cat[df1_cat.category.isna()]\n",
    "print(\"# Objects that don't have a category:\", catna.shape)\n",
    "print(catna[[\"object\", \"category\"]].head())\n",
    "\n",
    "df1catclean = df1_cat.dropna()\n",
    "catcount = df1catclean.category.value_counts()\n",
    "\n",
    "catunique = df1catclean.category.unique()\n",
    "\n",
    "print(\"Categories:\\n\\n\", catunique, \"\\n\")\n",
    "print(catcount)"
   ]
  },
  {
   "cell_type": "code",
   "execution_count": 109,
   "id": "d1ebf07d",
   "metadata": {},
   "outputs": [
    {
     "name": "stdout",
     "output_type": "stream",
     "text": [
      "        index  category\n",
      "0  Artificial     14880\n",
      "1     Natural      7824\n"
     ]
    },
    {
     "data": {
      "text/plain": [
       "[Text(0.5, 0, 'categories'), Text(0, 0.5, 'count')]"
      ]
     },
     "execution_count": 109,
     "metadata": {},
     "output_type": "execute_result"
    },
    {
     "data": {
      "image/png": "[encoded data removed]",
      "text/plain": [
       "<Figure size 640x480 with 1 Axes>"
      ]
     },
     "metadata": {},
     "output_type": "display_data"
    }
   ],
   "source": [
    "catplot = catcount.reset_index()\n",
    "print(catplot)\n",
    "ax = sns.barplot(catplot, x = \"index\", y = \"category\")\n",
    "ax.set(xlabel='categories', ylabel='count')"
   ]
  },
  {
   "cell_type": "code",
   "execution_count": null,
   "id": "24e27591",
   "metadata": {},
   "outputs": [],
   "source": [
    "# TODO: Average EEG detection for all patients"
   ]
  },
  {
   "attachments": {},
   "cell_type": "markdown",
   "id": "a45d5cf8",
   "metadata": {},
   "source": [
    "Analysis\n",
    "--"
   ]
  },
  {
   "attachments": {},
   "cell_type": "markdown",
   "id": "6fd05084",
   "metadata": {},
   "source": [
    "Here is a variable you want to assign for the results: `eeg_spike_results`. It is an array of arrays with the count of the EEG spikes.\n",
    "\n",
    "Right now I only put 7 entries of 3 features, as an example."
   ]
  },
  {
   "cell_type": "code",
   "execution_count": null,
   "id": "ef38d58a",
   "metadata": {},
   "outputs": [
    {
     "name": "stdout",
     "output_type": "stream",
     "text": [
      "[[150 200 100]\n",
      " [150 200 100]\n",
      " [140 155 155]\n",
      " [155 155 140]\n",
      " [300   0   0]\n",
      " [250   0  50]\n",
      " [300   0   0]]\n",
      "            Sum of power of spike threshold\n",
      "artificial                       206.428571\n",
      "natural                          101.428571\n",
      "food                              77.857143\n"
     ]
    },
    {
     "data": {
      "image/png": "[encoded data removed]",
      "text/plain": [
       "<Figure size 640x480 with 1 Axes>"
      ]
     },
     "metadata": {},
     "output_type": "display_data"
    }
   ],
   "source": [
    "eeg_categories = [\"artificial\", \"natural\", \"food\"] #np.catunique.to_numpy()\n",
    "eeg_spike_results = np.array([[150, 200, 100], [150, 200, 100], [140, 155, 155], [155, 155, 140], [300, 0, 0], [250, 0, 50], [300, 0, 0]])\n",
    "eeg_spike_avg = []\n",
    "\n",
    "print(eeg_spike_results)\n",
    "\n",
    "# take the average of each column\n",
    "for i in range(len(eeg_spike_results[0])):\n",
    "    eeg_spike_avg.append(np.mean(eeg_spike_results[:, i]))\n",
    "\n",
    "# TODO: Normalize the averages based on how many times the category appears in the data\n",
    "\n",
    "eeg_df = pd.DataFrame(data = np.array(eeg_spike_avg).transpose(), index = eeg_categories, columns = [\"Sum of power of spike threshold\"])\n",
    "print(eeg_df)\n",
    "\n",
    "plot_results = sns.barplot(x = eeg_df.index, y = eeg_df[\"Proportion of category spike threshold reached\"])"
   ]
  },
  {
   "attachments": {},
   "cell_type": "markdown",
   "id": "d2f198cc",
   "metadata": {},
   "source": [
    "Analysis:\n",
    "\n",
    "We will use the 1 way ANOVA test to see if there is a significant difference between subjects so we know that it isn't just preference what makes people happy.\n",
    "\n",
    "Null Hypothesis: There is a significant difference between the means of the participants' scores that people have their given category invoke happy feelings.\n",
    "\n",
    "Alternative Hypothesis: There is no significant difference between the means of the participants' scores that people have their given category invoke happy feelings."
   ]
  },
  {
   "cell_type": "code",
   "execution_count": null,
   "id": "915cb5d9",
   "metadata": {},
   "outputs": [
    {
     "name": "stdout",
     "output_type": "stream",
     "text": [
      "F_onewayResult(statistic=5.244431753283838, pvalue=0.01604635609554898)\n"
     ]
    }
   ],
   "source": [
    "from scipy.stats import f_oneway\n",
    "print(f_oneway(*eeg_spike_results.transpose().tolist()))"
   ]
  },
  {
   "attachments": {},
   "cell_type": "markdown",
   "id": "40e5aad2",
   "metadata": {},
   "source": [
    "Because the p-value is ________ than the alpha value of 0.05, we can..."
   ]
  }
 ],
 "metadata": {
  "kernelspec": {
   "display_name": "Python 3 (ipykernel)",
   "language": "python",
   "name": "python3"
  },
  "language_info": {
   "codemirror_mode": {
    "name": "ipython",
    "version": 3
   },
   "file_extension": ".py",
   "mimetype": "text/x-python",
   "name": "python",
   "nbconvert_exporter": "python",
   "pygments_lexer": "ipython3",
   "version": "3.8.16"
  }
 },
 "nbformat": 4,
 "nbformat_minor": 5
}
